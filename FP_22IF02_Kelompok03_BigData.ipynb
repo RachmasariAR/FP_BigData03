{
  "nbformat": 4,
  "nbformat_minor": 0,
  "metadata": {
    "colab": {
      "provenance": []
    },
    "kernelspec": {
      "name": "python3",
      "display_name": "Python 3"
    },
    "language_info": {
      "name": "python"
    }
  },
  "cells": [
    {
      "cell_type": "markdown",
      "source": [
        "Kelompok 03 (22IF02) : <br>\n",
        "Rachmasari Annisa Rida (22.11.4624) <br>\n",
        "Rahmat Wahyuma Akbar (22.11.4631) <br>\n",
        "Dennita Noor Febianty (22.11.4640) <br>\n",
        "Hidayah Renaz Rachmawan (22.11.4642)"
      ],
      "metadata": {
        "id": "uadKJrRy8IFk"
      }
    },
    {
      "cell_type": "code",
      "execution_count": null,
      "metadata": {
        "id": "wbW9wBQu7vkF"
      },
      "outputs": [],
      "source": [
        "import pandas as pd\n",
        "import matplotlib.pyplot as plt\n",
        "import seaborn as sns\n",
        "import numpy as np"
      ]
    },
    {
      "cell_type": "markdown",
      "source": [
        "#Load Dataset"
      ],
      "metadata": {
        "id": "9PnSSCwD7S9x"
      }
    },
    {
      "cell_type": "code",
      "source": [
        "df = pd.read_csv(\"https://raw.githubusercontent.com/RachmasariAR/FP_BigData03/main/Data_Tanaman_Padi_Sumatera.csv\")\n",
        "df"
      ],
      "metadata": {
        "colab": {
          "base_uri": "https://localhost:8080/",
          "height": 423
        },
        "id": "2i5sss97_uHi",
        "outputId": "39a97d81-d6ef-4f0b-b801-df2327872a66"
      },
      "execution_count": null,
      "outputs": [
        {
          "output_type": "execute_result",
          "data": {
            "text/plain": [
              "    Provinsi  Tahun    Produksi  Luas Panen  Curah hujan  Kelembapan  \\\n",
              "0       Aceh   1993  1329536.00   323589.00       1627.0       82.00   \n",
              "1       Aceh   1994  1299699.00   329041.00       1521.0       82.12   \n",
              "2       Aceh   1995  1382905.00   339253.00       1476.0       82.72   \n",
              "3       Aceh   1996  1419128.00   348223.00       1557.0       83.00   \n",
              "4       Aceh   1997  1368074.00   337561.00       1339.0       82.46   \n",
              "..       ...    ...         ...         ...          ...         ...   \n",
              "240  Lampung   2019  2164089.33   464103.42       1706.4       78.03   \n",
              "241  Lampung   2020  2604913.29   545149.05       2211.3       75.80   \n",
              "242  Lampung   2021  2453827.00   501726.00       1829.0       78.00   \n",
              "243  Lampung   2022  3572882.30   552718.00       1999.0       78.20   \n",
              "244  Lampung   2023  3729376.00   589202.40       2018.0       80.00   \n",
              "\n",
              "     Suhu rata-rata  \n",
              "0             26.06  \n",
              "1             26.92  \n",
              "2             26.27  \n",
              "3             26.08  \n",
              "4             26.31  \n",
              "..              ...  \n",
              "240           27.23  \n",
              "241           24.58  \n",
              "242           25.00  \n",
              "243           26.20  \n",
              "244           26.40  \n",
              "\n",
              "[245 rows x 7 columns]"
            ],
            "text/html": [
              "\n",
              "  <div id=\"df-b79213b3-a633-4455-bf4c-b669982c8448\" class=\"colab-df-container\">\n",
              "    <div>\n",
              "<style scoped>\n",
              "    .dataframe tbody tr th:only-of-type {\n",
              "        vertical-align: middle;\n",
              "    }\n",
              "\n",
              "    .dataframe tbody tr th {\n",
              "        vertical-align: top;\n",
              "    }\n",
              "\n",
              "    .dataframe thead th {\n",
              "        text-align: right;\n",
              "    }\n",
              "</style>\n",
              "<table border=\"1\" class=\"dataframe\">\n",
              "  <thead>\n",
              "    <tr style=\"text-align: right;\">\n",
              "      <th></th>\n",
              "      <th>Provinsi</th>\n",
              "      <th>Tahun</th>\n",
              "      <th>Produksi</th>\n",
              "      <th>Luas Panen</th>\n",
              "      <th>Curah hujan</th>\n",
              "      <th>Kelembapan</th>\n",
              "      <th>Suhu rata-rata</th>\n",
              "    </tr>\n",
              "  </thead>\n",
              "  <tbody>\n",
              "    <tr>\n",
              "      <th>0</th>\n",
              "      <td>Aceh</td>\n",
              "      <td>1993</td>\n",
              "      <td>1329536.00</td>\n",
              "      <td>323589.00</td>\n",
              "      <td>1627.0</td>\n",
              "      <td>82.00</td>\n",
              "      <td>26.06</td>\n",
              "    </tr>\n",
              "    <tr>\n",
              "      <th>1</th>\n",
              "      <td>Aceh</td>\n",
              "      <td>1994</td>\n",
              "      <td>1299699.00</td>\n",
              "      <td>329041.00</td>\n",
              "      <td>1521.0</td>\n",
              "      <td>82.12</td>\n",
              "      <td>26.92</td>\n",
              "    </tr>\n",
              "    <tr>\n",
              "      <th>2</th>\n",
              "      <td>Aceh</td>\n",
              "      <td>1995</td>\n",
              "      <td>1382905.00</td>\n",
              "      <td>339253.00</td>\n",
              "      <td>1476.0</td>\n",
              "      <td>82.72</td>\n",
              "      <td>26.27</td>\n",
              "    </tr>\n",
              "    <tr>\n",
              "      <th>3</th>\n",
              "      <td>Aceh</td>\n",
              "      <td>1996</td>\n",
              "      <td>1419128.00</td>\n",
              "      <td>348223.00</td>\n",
              "      <td>1557.0</td>\n",
              "      <td>83.00</td>\n",
              "      <td>26.08</td>\n",
              "    </tr>\n",
              "    <tr>\n",
              "      <th>4</th>\n",
              "      <td>Aceh</td>\n",
              "      <td>1997</td>\n",
              "      <td>1368074.00</td>\n",
              "      <td>337561.00</td>\n",
              "      <td>1339.0</td>\n",
              "      <td>82.46</td>\n",
              "      <td>26.31</td>\n",
              "    </tr>\n",
              "    <tr>\n",
              "      <th>...</th>\n",
              "      <td>...</td>\n",
              "      <td>...</td>\n",
              "      <td>...</td>\n",
              "      <td>...</td>\n",
              "      <td>...</td>\n",
              "      <td>...</td>\n",
              "      <td>...</td>\n",
              "    </tr>\n",
              "    <tr>\n",
              "      <th>240</th>\n",
              "      <td>Lampung</td>\n",
              "      <td>2019</td>\n",
              "      <td>2164089.33</td>\n",
              "      <td>464103.42</td>\n",
              "      <td>1706.4</td>\n",
              "      <td>78.03</td>\n",
              "      <td>27.23</td>\n",
              "    </tr>\n",
              "    <tr>\n",
              "      <th>241</th>\n",
              "      <td>Lampung</td>\n",
              "      <td>2020</td>\n",
              "      <td>2604913.29</td>\n",
              "      <td>545149.05</td>\n",
              "      <td>2211.3</td>\n",
              "      <td>75.80</td>\n",
              "      <td>24.58</td>\n",
              "    </tr>\n",
              "    <tr>\n",
              "      <th>242</th>\n",
              "      <td>Lampung</td>\n",
              "      <td>2021</td>\n",
              "      <td>2453827.00</td>\n",
              "      <td>501726.00</td>\n",
              "      <td>1829.0</td>\n",
              "      <td>78.00</td>\n",
              "      <td>25.00</td>\n",
              "    </tr>\n",
              "    <tr>\n",
              "      <th>243</th>\n",
              "      <td>Lampung</td>\n",
              "      <td>2022</td>\n",
              "      <td>3572882.30</td>\n",
              "      <td>552718.00</td>\n",
              "      <td>1999.0</td>\n",
              "      <td>78.20</td>\n",
              "      <td>26.20</td>\n",
              "    </tr>\n",
              "    <tr>\n",
              "      <th>244</th>\n",
              "      <td>Lampung</td>\n",
              "      <td>2023</td>\n",
              "      <td>3729376.00</td>\n",
              "      <td>589202.40</td>\n",
              "      <td>2018.0</td>\n",
              "      <td>80.00</td>\n",
              "      <td>26.40</td>\n",
              "    </tr>\n",
              "  </tbody>\n",
              "</table>\n",
              "<p>245 rows × 7 columns</p>\n",
              "</div>\n",
              "    <div class=\"colab-df-buttons\">\n",
              "\n",
              "  <div class=\"colab-df-container\">\n",
              "    <button class=\"colab-df-convert\" onclick=\"convertToInteractive('df-b79213b3-a633-4455-bf4c-b669982c8448')\"\n",
              "            title=\"Convert this dataframe to an interactive table.\"\n",
              "            style=\"display:none;\">\n",
              "\n",
              "  <svg xmlns=\"http://www.w3.org/2000/svg\" height=\"24px\" viewBox=\"0 -960 960 960\">\n",
              "    <path d=\"M120-120v-720h720v720H120Zm60-500h600v-160H180v160Zm220 220h160v-160H400v160Zm0 220h160v-160H400v160ZM180-400h160v-160H180v160Zm440 0h160v-160H620v160ZM180-180h160v-160H180v160Zm440 0h160v-160H620v160Z\"/>\n",
              "  </svg>\n",
              "    </button>\n",
              "\n",
              "  <style>\n",
              "    .colab-df-container {\n",
              "      display:flex;\n",
              "      gap: 12px;\n",
              "    }\n",
              "\n",
              "    .colab-df-convert {\n",
              "      background-color: #E8F0FE;\n",
              "      border: none;\n",
              "      border-radius: 50%;\n",
              "      cursor: pointer;\n",
              "      display: none;\n",
              "      fill: #1967D2;\n",
              "      height: 32px;\n",
              "      padding: 0 0 0 0;\n",
              "      width: 32px;\n",
              "    }\n",
              "\n",
              "    .colab-df-convert:hover {\n",
              "      background-color: #E2EBFA;\n",
              "      box-shadow: 0px 1px 2px rgba(60, 64, 67, 0.3), 0px 1px 3px 1px rgba(60, 64, 67, 0.15);\n",
              "      fill: #174EA6;\n",
              "    }\n",
              "\n",
              "    .colab-df-buttons div {\n",
              "      margin-bottom: 4px;\n",
              "    }\n",
              "\n",
              "    [theme=dark] .colab-df-convert {\n",
              "      background-color: #3B4455;\n",
              "      fill: #D2E3FC;\n",
              "    }\n",
              "\n",
              "    [theme=dark] .colab-df-convert:hover {\n",
              "      background-color: #434B5C;\n",
              "      box-shadow: 0px 1px 3px 1px rgba(0, 0, 0, 0.15);\n",
              "      filter: drop-shadow(0px 1px 2px rgba(0, 0, 0, 0.3));\n",
              "      fill: #FFFFFF;\n",
              "    }\n",
              "  </style>\n",
              "\n",
              "    <script>\n",
              "      const buttonEl =\n",
              "        document.querySelector('#df-b79213b3-a633-4455-bf4c-b669982c8448 button.colab-df-convert');\n",
              "      buttonEl.style.display =\n",
              "        google.colab.kernel.accessAllowed ? 'block' : 'none';\n",
              "\n",
              "      async function convertToInteractive(key) {\n",
              "        const element = document.querySelector('#df-b79213b3-a633-4455-bf4c-b669982c8448');\n",
              "        const dataTable =\n",
              "          await google.colab.kernel.invokeFunction('convertToInteractive',\n",
              "                                                    [key], {});\n",
              "        if (!dataTable) return;\n",
              "\n",
              "        const docLinkHtml = 'Like what you see? Visit the ' +\n",
              "          '<a target=\"_blank\" href=https://colab.research.google.com/notebooks/data_table.ipynb>data table notebook</a>'\n",
              "          + ' to learn more about interactive tables.';\n",
              "        element.innerHTML = '';\n",
              "        dataTable['output_type'] = 'display_data';\n",
              "        await google.colab.output.renderOutput(dataTable, element);\n",
              "        const docLink = document.createElement('div');\n",
              "        docLink.innerHTML = docLinkHtml;\n",
              "        element.appendChild(docLink);\n",
              "      }\n",
              "    </script>\n",
              "  </div>\n",
              "\n",
              "\n",
              "<div id=\"df-ddf3018d-1851-4a42-9f6c-0839b546de7f\">\n",
              "  <button class=\"colab-df-quickchart\" onclick=\"quickchart('df-ddf3018d-1851-4a42-9f6c-0839b546de7f')\"\n",
              "            title=\"Suggest charts\"\n",
              "            style=\"display:none;\">\n",
              "\n",
              "<svg xmlns=\"http://www.w3.org/2000/svg\" height=\"24px\"viewBox=\"0 0 24 24\"\n",
              "     width=\"24px\">\n",
              "    <g>\n",
              "        <path d=\"M19 3H5c-1.1 0-2 .9-2 2v14c0 1.1.9 2 2 2h14c1.1 0 2-.9 2-2V5c0-1.1-.9-2-2-2zM9 17H7v-7h2v7zm4 0h-2V7h2v10zm4 0h-2v-4h2v4z\"/>\n",
              "    </g>\n",
              "</svg>\n",
              "  </button>\n",
              "\n",
              "<style>\n",
              "  .colab-df-quickchart {\n",
              "      --bg-color: #E8F0FE;\n",
              "      --fill-color: #1967D2;\n",
              "      --hover-bg-color: #E2EBFA;\n",
              "      --hover-fill-color: #174EA6;\n",
              "      --disabled-fill-color: #AAA;\n",
              "      --disabled-bg-color: #DDD;\n",
              "  }\n",
              "\n",
              "  [theme=dark] .colab-df-quickchart {\n",
              "      --bg-color: #3B4455;\n",
              "      --fill-color: #D2E3FC;\n",
              "      --hover-bg-color: #434B5C;\n",
              "      --hover-fill-color: #FFFFFF;\n",
              "      --disabled-bg-color: #3B4455;\n",
              "      --disabled-fill-color: #666;\n",
              "  }\n",
              "\n",
              "  .colab-df-quickchart {\n",
              "    background-color: var(--bg-color);\n",
              "    border: none;\n",
              "    border-radius: 50%;\n",
              "    cursor: pointer;\n",
              "    display: none;\n",
              "    fill: var(--fill-color);\n",
              "    height: 32px;\n",
              "    padding: 0;\n",
              "    width: 32px;\n",
              "  }\n",
              "\n",
              "  .colab-df-quickchart:hover {\n",
              "    background-color: var(--hover-bg-color);\n",
              "    box-shadow: 0 1px 2px rgba(60, 64, 67, 0.3), 0 1px 3px 1px rgba(60, 64, 67, 0.15);\n",
              "    fill: var(--button-hover-fill-color);\n",
              "  }\n",
              "\n",
              "  .colab-df-quickchart-complete:disabled,\n",
              "  .colab-df-quickchart-complete:disabled:hover {\n",
              "    background-color: var(--disabled-bg-color);\n",
              "    fill: var(--disabled-fill-color);\n",
              "    box-shadow: none;\n",
              "  }\n",
              "\n",
              "  .colab-df-spinner {\n",
              "    border: 2px solid var(--fill-color);\n",
              "    border-color: transparent;\n",
              "    border-bottom-color: var(--fill-color);\n",
              "    animation:\n",
              "      spin 1s steps(1) infinite;\n",
              "  }\n",
              "\n",
              "  @keyframes spin {\n",
              "    0% {\n",
              "      border-color: transparent;\n",
              "      border-bottom-color: var(--fill-color);\n",
              "      border-left-color: var(--fill-color);\n",
              "    }\n",
              "    20% {\n",
              "      border-color: transparent;\n",
              "      border-left-color: var(--fill-color);\n",
              "      border-top-color: var(--fill-color);\n",
              "    }\n",
              "    30% {\n",
              "      border-color: transparent;\n",
              "      border-left-color: var(--fill-color);\n",
              "      border-top-color: var(--fill-color);\n",
              "      border-right-color: var(--fill-color);\n",
              "    }\n",
              "    40% {\n",
              "      border-color: transparent;\n",
              "      border-right-color: var(--fill-color);\n",
              "      border-top-color: var(--fill-color);\n",
              "    }\n",
              "    60% {\n",
              "      border-color: transparent;\n",
              "      border-right-color: var(--fill-color);\n",
              "    }\n",
              "    80% {\n",
              "      border-color: transparent;\n",
              "      border-right-color: var(--fill-color);\n",
              "      border-bottom-color: var(--fill-color);\n",
              "    }\n",
              "    90% {\n",
              "      border-color: transparent;\n",
              "      border-bottom-color: var(--fill-color);\n",
              "    }\n",
              "  }\n",
              "</style>\n",
              "\n",
              "  <script>\n",
              "    async function quickchart(key) {\n",
              "      const quickchartButtonEl =\n",
              "        document.querySelector('#' + key + ' button');\n",
              "      quickchartButtonEl.disabled = true;  // To prevent multiple clicks.\n",
              "      quickchartButtonEl.classList.add('colab-df-spinner');\n",
              "      try {\n",
              "        const charts = await google.colab.kernel.invokeFunction(\n",
              "            'suggestCharts', [key], {});\n",
              "      } catch (error) {\n",
              "        console.error('Error during call to suggestCharts:', error);\n",
              "      }\n",
              "      quickchartButtonEl.classList.remove('colab-df-spinner');\n",
              "      quickchartButtonEl.classList.add('colab-df-quickchart-complete');\n",
              "    }\n",
              "    (() => {\n",
              "      let quickchartButtonEl =\n",
              "        document.querySelector('#df-ddf3018d-1851-4a42-9f6c-0839b546de7f button');\n",
              "      quickchartButtonEl.style.display =\n",
              "        google.colab.kernel.accessAllowed ? 'block' : 'none';\n",
              "    })();\n",
              "  </script>\n",
              "</div>\n",
              "\n",
              "  <div id=\"id_2ab5fa19-d056-4e96-82f2-c321d2c26d22\">\n",
              "    <style>\n",
              "      .colab-df-generate {\n",
              "        background-color: #E8F0FE;\n",
              "        border: none;\n",
              "        border-radius: 50%;\n",
              "        cursor: pointer;\n",
              "        display: none;\n",
              "        fill: #1967D2;\n",
              "        height: 32px;\n",
              "        padding: 0 0 0 0;\n",
              "        width: 32px;\n",
              "      }\n",
              "\n",
              "      .colab-df-generate:hover {\n",
              "        background-color: #E2EBFA;\n",
              "        box-shadow: 0px 1px 2px rgba(60, 64, 67, 0.3), 0px 1px 3px 1px rgba(60, 64, 67, 0.15);\n",
              "        fill: #174EA6;\n",
              "      }\n",
              "\n",
              "      [theme=dark] .colab-df-generate {\n",
              "        background-color: #3B4455;\n",
              "        fill: #D2E3FC;\n",
              "      }\n",
              "\n",
              "      [theme=dark] .colab-df-generate:hover {\n",
              "        background-color: #434B5C;\n",
              "        box-shadow: 0px 1px 3px 1px rgba(0, 0, 0, 0.15);\n",
              "        filter: drop-shadow(0px 1px 2px rgba(0, 0, 0, 0.3));\n",
              "        fill: #FFFFFF;\n",
              "      }\n",
              "    </style>\n",
              "    <button class=\"colab-df-generate\" onclick=\"generateWithVariable('df')\"\n",
              "            title=\"Generate code using this dataframe.\"\n",
              "            style=\"display:none;\">\n",
              "\n",
              "  <svg xmlns=\"http://www.w3.org/2000/svg\" height=\"24px\"viewBox=\"0 0 24 24\"\n",
              "       width=\"24px\">\n",
              "    <path d=\"M7,19H8.4L18.45,9,17,7.55,7,17.6ZM5,21V16.75L18.45,3.32a2,2,0,0,1,2.83,0l1.4,1.43a1.91,1.91,0,0,1,.58,1.4,1.91,1.91,0,0,1-.58,1.4L9.25,21ZM18.45,9,17,7.55Zm-12,3A5.31,5.31,0,0,0,4.9,8.1,5.31,5.31,0,0,0,1,6.5,5.31,5.31,0,0,0,4.9,4.9,5.31,5.31,0,0,0,6.5,1,5.31,5.31,0,0,0,8.1,4.9,5.31,5.31,0,0,0,12,6.5,5.46,5.46,0,0,0,6.5,12Z\"/>\n",
              "  </svg>\n",
              "    </button>\n",
              "    <script>\n",
              "      (() => {\n",
              "      const buttonEl =\n",
              "        document.querySelector('#id_2ab5fa19-d056-4e96-82f2-c321d2c26d22 button.colab-df-generate');\n",
              "      buttonEl.style.display =\n",
              "        google.colab.kernel.accessAllowed ? 'block' : 'none';\n",
              "\n",
              "      buttonEl.onclick = () => {\n",
              "        google.colab.notebook.generateWithVariable('df');\n",
              "      }\n",
              "      })();\n",
              "    </script>\n",
              "  </div>\n",
              "\n",
              "    </div>\n",
              "  </div>\n"
            ],
            "application/vnd.google.colaboratory.intrinsic+json": {
              "type": "dataframe",
              "variable_name": "df",
              "summary": "{\n  \"name\": \"df\",\n  \"rows\": 245,\n  \"fields\": [\n    {\n      \"column\": \"Provinsi\",\n      \"properties\": {\n        \"dtype\": \"category\",\n        \"num_unique_values\": 8,\n        \"samples\": [\n          \"Sumatera Utara\",\n          \"Sumatera Selatan\",\n          \"Aceh\"\n        ],\n        \"semantic_type\": \"\",\n        \"description\": \"\"\n      }\n    },\n    {\n      \"column\": \"Tahun\",\n      \"properties\": {\n        \"dtype\": \"number\",\n        \"std\": 8,\n        \"min\": 1993,\n        \"max\": 2023,\n        \"num_unique_values\": 31,\n        \"samples\": [\n          2020,\n          2008,\n          2016\n        ],\n        \"semantic_type\": \"\",\n        \"description\": \"\"\n      }\n    },\n    {\n      \"column\": \"Produksi\",\n      \"properties\": {\n        \"dtype\": \"number\",\n        \"std\": 1166609.8662432274,\n        \"min\": 42938.0,\n        \"max\": 4881089.0,\n        \"num_unique_values\": 245,\n        \"samples\": [\n          2478922.0,\n          1478712.0,\n          1347611.0\n        ],\n        \"semantic_type\": \"\",\n        \"description\": \"\"\n      }\n    },\n    {\n      \"column\": \"Luas Panen\",\n      \"properties\": {\n        \"dtype\": \"number\",\n        \"std\": 233542.9158527557,\n        \"min\": 61098.0,\n        \"max\": 872737.0,\n        \"num_unique_values\": 245,\n        \"samples\": [\n          294483.0,\n          359817.0,\n          422109.0\n        ],\n        \"semantic_type\": \"\",\n        \"description\": \"\"\n      }\n    },\n    {\n      \"column\": \"Curah hujan\",\n      \"properties\": {\n        \"dtype\": \"number\",\n        \"std\": 1734.2152442282113,\n        \"min\": 222.5,\n        \"max\": 23985.0,\n        \"num_unique_values\": 232,\n        \"samples\": [\n          1568.0,\n          4241.2,\n          1296.8\n        ],\n        \"semantic_type\": \"\",\n        \"description\": \"\"\n      }\n    },\n    {\n      \"column\": \"Kelembapan\",\n      \"properties\": {\n        \"dtype\": \"number\",\n        \"std\": 4.808155376561835,\n        \"min\": 54.2,\n        \"max\": 90.6,\n        \"num_unique_values\": 183,\n        \"samples\": [\n          79.6,\n          86.0,\n          82.52\n        ],\n        \"semantic_type\": \"\",\n        \"description\": \"\"\n      }\n    },\n    {\n      \"column\": \"Suhu rata-rata\",\n      \"properties\": {\n        \"dtype\": \"number\",\n        \"std\": 1.1805950323308272,\n        \"min\": 22.19,\n        \"max\": 29.85,\n        \"num_unique_values\": 139,\n        \"samples\": [\n          26.36,\n          26.5,\n          29.59\n        ],\n        \"semantic_type\": \"\",\n        \"description\": \"\"\n      }\n    }\n  ]\n}"
            }
          },
          "metadata": {},
          "execution_count": 3
        }
      ]
    },
    {
      "cell_type": "code",
      "source": [
        "df.info()"
      ],
      "metadata": {
        "colab": {
          "base_uri": "https://localhost:8080/"
        },
        "id": "SOi6OWRq_1qV",
        "outputId": "561f8c86-58c8-4ab7-aa4e-9b07aab4fde1"
      },
      "execution_count": null,
      "outputs": [
        {
          "output_type": "stream",
          "name": "stdout",
          "text": [
            "<class 'pandas.core.frame.DataFrame'>\n",
            "RangeIndex: 245 entries, 0 to 244\n",
            "Data columns (total 7 columns):\n",
            " #   Column          Non-Null Count  Dtype  \n",
            "---  ------          --------------  -----  \n",
            " 0   Provinsi        245 non-null    object \n",
            " 1   Tahun           245 non-null    int64  \n",
            " 2   Produksi        245 non-null    float64\n",
            " 3   Luas Panen      245 non-null    float64\n",
            " 4   Curah hujan     236 non-null    float64\n",
            " 5   Kelembapan      234 non-null    float64\n",
            " 6   Suhu rata-rata  236 non-null    float64\n",
            "dtypes: float64(5), int64(1), object(1)\n",
            "memory usage: 13.5+ KB\n"
          ]
        }
      ]
    },
    {
      "cell_type": "markdown",
      "source": [
        "#EDA Cleaning"
      ],
      "metadata": {
        "id": "j6U33x-_m7WX"
      }
    },
    {
      "cell_type": "code",
      "source": [
        "df.duplicated().sum()"
      ],
      "metadata": {
        "colab": {
          "base_uri": "https://localhost:8080/"
        },
        "id": "Kx9qSYG3Chso",
        "outputId": "79d83359-6ad7-47a0-ec55-57f75794c186"
      },
      "execution_count": null,
      "outputs": [
        {
          "output_type": "execute_result",
          "data": {
            "text/plain": [
              "0"
            ]
          },
          "metadata": {},
          "execution_count": 5
        }
      ]
    },
    {
      "cell_type": "code",
      "source": [
        "df.isnull().sum()"
      ],
      "metadata": {
        "colab": {
          "base_uri": "https://localhost:8080/"
        },
        "id": "ffQaD5ObCmy1",
        "outputId": "7577bc71-1a05-40fd-94cd-3686df813867"
      },
      "execution_count": null,
      "outputs": [
        {
          "output_type": "execute_result",
          "data": {
            "text/plain": [
              "Provinsi           0\n",
              "Tahun              0\n",
              "Produksi           0\n",
              "Luas Panen         0\n",
              "Curah hujan        9\n",
              "Kelembapan        11\n",
              "Suhu rata-rata     9\n",
              "dtype: int64"
            ]
          },
          "metadata": {},
          "execution_count": 6
        }
      ]
    },
    {
      "cell_type": "code",
      "source": [
        "null_columns = ['Curah hujan', 'Kelembapan', 'Suhu rata-rata']\n",
        "df[null_columns]"
      ],
      "metadata": {
        "id": "2eZ6VfbaCxZi",
        "colab": {
          "base_uri": "https://localhost:8080/",
          "height": 423
        },
        "outputId": "480b0e05-c68e-464d-c090-1c4c83aa9d0b"
      },
      "execution_count": null,
      "outputs": [
        {
          "output_type": "execute_result",
          "data": {
            "text/plain": [
              "     Curah hujan  Kelembapan  Suhu rata-rata\n",
              "0         1627.0       82.00           26.06\n",
              "1         1521.0       82.12           26.92\n",
              "2         1476.0       82.72           26.27\n",
              "3         1557.0       83.00           26.08\n",
              "4         1339.0       82.46           26.31\n",
              "..           ...         ...             ...\n",
              "240       1706.4       78.03           27.23\n",
              "241       2211.3       75.80           24.58\n",
              "242       1829.0       78.00           25.00\n",
              "243       1999.0       78.20           26.20\n",
              "244       2018.0       80.00           26.40\n",
              "\n",
              "[245 rows x 3 columns]"
            ],
            "text/html": [
              "\n",
              "  <div id=\"df-1dc80c97-904f-4165-9158-56b15ca8c42a\" class=\"colab-df-container\">\n",
              "    <div>\n",
              "<style scoped>\n",
              "    .dataframe tbody tr th:only-of-type {\n",
              "        vertical-align: middle;\n",
              "    }\n",
              "\n",
              "    .dataframe tbody tr th {\n",
              "        vertical-align: top;\n",
              "    }\n",
              "\n",
              "    .dataframe thead th {\n",
              "        text-align: right;\n",
              "    }\n",
              "</style>\n",
              "<table border=\"1\" class=\"dataframe\">\n",
              "  <thead>\n",
              "    <tr style=\"text-align: right;\">\n",
              "      <th></th>\n",
              "      <th>Curah hujan</th>\n",
              "      <th>Kelembapan</th>\n",
              "      <th>Suhu rata-rata</th>\n",
              "    </tr>\n",
              "  </thead>\n",
              "  <tbody>\n",
              "    <tr>\n",
              "      <th>0</th>\n",
              "      <td>1627.0</td>\n",
              "      <td>82.00</td>\n",
              "      <td>26.06</td>\n",
              "    </tr>\n",
              "    <tr>\n",
              "      <th>1</th>\n",
              "      <td>1521.0</td>\n",
              "      <td>82.12</td>\n",
              "      <td>26.92</td>\n",
              "    </tr>\n",
              "    <tr>\n",
              "      <th>2</th>\n",
              "      <td>1476.0</td>\n",
              "      <td>82.72</td>\n",
              "      <td>26.27</td>\n",
              "    </tr>\n",
              "    <tr>\n",
              "      <th>3</th>\n",
              "      <td>1557.0</td>\n",
              "      <td>83.00</td>\n",
              "      <td>26.08</td>\n",
              "    </tr>\n",
              "    <tr>\n",
              "      <th>4</th>\n",
              "      <td>1339.0</td>\n",
              "      <td>82.46</td>\n",
              "      <td>26.31</td>\n",
              "    </tr>\n",
              "    <tr>\n",
              "      <th>...</th>\n",
              "      <td>...</td>\n",
              "      <td>...</td>\n",
              "      <td>...</td>\n",
              "    </tr>\n",
              "    <tr>\n",
              "      <th>240</th>\n",
              "      <td>1706.4</td>\n",
              "      <td>78.03</td>\n",
              "      <td>27.23</td>\n",
              "    </tr>\n",
              "    <tr>\n",
              "      <th>241</th>\n",
              "      <td>2211.3</td>\n",
              "      <td>75.80</td>\n",
              "      <td>24.58</td>\n",
              "    </tr>\n",
              "    <tr>\n",
              "      <th>242</th>\n",
              "      <td>1829.0</td>\n",
              "      <td>78.00</td>\n",
              "      <td>25.00</td>\n",
              "    </tr>\n",
              "    <tr>\n",
              "      <th>243</th>\n",
              "      <td>1999.0</td>\n",
              "      <td>78.20</td>\n",
              "      <td>26.20</td>\n",
              "    </tr>\n",
              "    <tr>\n",
              "      <th>244</th>\n",
              "      <td>2018.0</td>\n",
              "      <td>80.00</td>\n",
              "      <td>26.40</td>\n",
              "    </tr>\n",
              "  </tbody>\n",
              "</table>\n",
              "<p>245 rows × 3 columns</p>\n",
              "</div>\n",
              "    <div class=\"colab-df-buttons\">\n",
              "\n",
              "  <div class=\"colab-df-container\">\n",
              "    <button class=\"colab-df-convert\" onclick=\"convertToInteractive('df-1dc80c97-904f-4165-9158-56b15ca8c42a')\"\n",
              "            title=\"Convert this dataframe to an interactive table.\"\n",
              "            style=\"display:none;\">\n",
              "\n",
              "  <svg xmlns=\"http://www.w3.org/2000/svg\" height=\"24px\" viewBox=\"0 -960 960 960\">\n",
              "    <path d=\"M120-120v-720h720v720H120Zm60-500h600v-160H180v160Zm220 220h160v-160H400v160Zm0 220h160v-160H400v160ZM180-400h160v-160H180v160Zm440 0h160v-160H620v160ZM180-180h160v-160H180v160Zm440 0h160v-160H620v160Z\"/>\n",
              "  </svg>\n",
              "    </button>\n",
              "\n",
              "  <style>\n",
              "    .colab-df-container {\n",
              "      display:flex;\n",
              "      gap: 12px;\n",
              "    }\n",
              "\n",
              "    .colab-df-convert {\n",
              "      background-color: #E8F0FE;\n",
              "      border: none;\n",
              "      border-radius: 50%;\n",
              "      cursor: pointer;\n",
              "      display: none;\n",
              "      fill: #1967D2;\n",
              "      height: 32px;\n",
              "      padding: 0 0 0 0;\n",
              "      width: 32px;\n",
              "    }\n",
              "\n",
              "    .colab-df-convert:hover {\n",
              "      background-color: #E2EBFA;\n",
              "      box-shadow: 0px 1px 2px rgba(60, 64, 67, 0.3), 0px 1px 3px 1px rgba(60, 64, 67, 0.15);\n",
              "      fill: #174EA6;\n",
              "    }\n",
              "\n",
              "    .colab-df-buttons div {\n",
              "      margin-bottom: 4px;\n",
              "    }\n",
              "\n",
              "    [theme=dark] .colab-df-convert {\n",
              "      background-color: #3B4455;\n",
              "      fill: #D2E3FC;\n",
              "    }\n",
              "\n",
              "    [theme=dark] .colab-df-convert:hover {\n",
              "      background-color: #434B5C;\n",
              "      box-shadow: 0px 1px 3px 1px rgba(0, 0, 0, 0.15);\n",
              "      filter: drop-shadow(0px 1px 2px rgba(0, 0, 0, 0.3));\n",
              "      fill: #FFFFFF;\n",
              "    }\n",
              "  </style>\n",
              "\n",
              "    <script>\n",
              "      const buttonEl =\n",
              "        document.querySelector('#df-1dc80c97-904f-4165-9158-56b15ca8c42a button.colab-df-convert');\n",
              "      buttonEl.style.display =\n",
              "        google.colab.kernel.accessAllowed ? 'block' : 'none';\n",
              "\n",
              "      async function convertToInteractive(key) {\n",
              "        const element = document.querySelector('#df-1dc80c97-904f-4165-9158-56b15ca8c42a');\n",
              "        const dataTable =\n",
              "          await google.colab.kernel.invokeFunction('convertToInteractive',\n",
              "                                                    [key], {});\n",
              "        if (!dataTable) return;\n",
              "\n",
              "        const docLinkHtml = 'Like what you see? Visit the ' +\n",
              "          '<a target=\"_blank\" href=https://colab.research.google.com/notebooks/data_table.ipynb>data table notebook</a>'\n",
              "          + ' to learn more about interactive tables.';\n",
              "        element.innerHTML = '';\n",
              "        dataTable['output_type'] = 'display_data';\n",
              "        await google.colab.output.renderOutput(dataTable, element);\n",
              "        const docLink = document.createElement('div');\n",
              "        docLink.innerHTML = docLinkHtml;\n",
              "        element.appendChild(docLink);\n",
              "      }\n",
              "    </script>\n",
              "  </div>\n",
              "\n",
              "\n",
              "<div id=\"df-59b5e771-7c60-444b-996a-aa3557652683\">\n",
              "  <button class=\"colab-df-quickchart\" onclick=\"quickchart('df-59b5e771-7c60-444b-996a-aa3557652683')\"\n",
              "            title=\"Suggest charts\"\n",
              "            style=\"display:none;\">\n",
              "\n",
              "<svg xmlns=\"http://www.w3.org/2000/svg\" height=\"24px\"viewBox=\"0 0 24 24\"\n",
              "     width=\"24px\">\n",
              "    <g>\n",
              "        <path d=\"M19 3H5c-1.1 0-2 .9-2 2v14c0 1.1.9 2 2 2h14c1.1 0 2-.9 2-2V5c0-1.1-.9-2-2-2zM9 17H7v-7h2v7zm4 0h-2V7h2v10zm4 0h-2v-4h2v4z\"/>\n",
              "    </g>\n",
              "</svg>\n",
              "  </button>\n",
              "\n",
              "<style>\n",
              "  .colab-df-quickchart {\n",
              "      --bg-color: #E8F0FE;\n",
              "      --fill-color: #1967D2;\n",
              "      --hover-bg-color: #E2EBFA;\n",
              "      --hover-fill-color: #174EA6;\n",
              "      --disabled-fill-color: #AAA;\n",
              "      --disabled-bg-color: #DDD;\n",
              "  }\n",
              "\n",
              "  [theme=dark] .colab-df-quickchart {\n",
              "      --bg-color: #3B4455;\n",
              "      --fill-color: #D2E3FC;\n",
              "      --hover-bg-color: #434B5C;\n",
              "      --hover-fill-color: #FFFFFF;\n",
              "      --disabled-bg-color: #3B4455;\n",
              "      --disabled-fill-color: #666;\n",
              "  }\n",
              "\n",
              "  .colab-df-quickchart {\n",
              "    background-color: var(--bg-color);\n",
              "    border: none;\n",
              "    border-radius: 50%;\n",
              "    cursor: pointer;\n",
              "    display: none;\n",
              "    fill: var(--fill-color);\n",
              "    height: 32px;\n",
              "    padding: 0;\n",
              "    width: 32px;\n",
              "  }\n",
              "\n",
              "  .colab-df-quickchart:hover {\n",
              "    background-color: var(--hover-bg-color);\n",
              "    box-shadow: 0 1px 2px rgba(60, 64, 67, 0.3), 0 1px 3px 1px rgba(60, 64, 67, 0.15);\n",
              "    fill: var(--button-hover-fill-color);\n",
              "  }\n",
              "\n",
              "  .colab-df-quickchart-complete:disabled,\n",
              "  .colab-df-quickchart-complete:disabled:hover {\n",
              "    background-color: var(--disabled-bg-color);\n",
              "    fill: var(--disabled-fill-color);\n",
              "    box-shadow: none;\n",
              "  }\n",
              "\n",
              "  .colab-df-spinner {\n",
              "    border: 2px solid var(--fill-color);\n",
              "    border-color: transparent;\n",
              "    border-bottom-color: var(--fill-color);\n",
              "    animation:\n",
              "      spin 1s steps(1) infinite;\n",
              "  }\n",
              "\n",
              "  @keyframes spin {\n",
              "    0% {\n",
              "      border-color: transparent;\n",
              "      border-bottom-color: var(--fill-color);\n",
              "      border-left-color: var(--fill-color);\n",
              "    }\n",
              "    20% {\n",
              "      border-color: transparent;\n",
              "      border-left-color: var(--fill-color);\n",
              "      border-top-color: var(--fill-color);\n",
              "    }\n",
              "    30% {\n",
              "      border-color: transparent;\n",
              "      border-left-color: var(--fill-color);\n",
              "      border-top-color: var(--fill-color);\n",
              "      border-right-color: var(--fill-color);\n",
              "    }\n",
              "    40% {\n",
              "      border-color: transparent;\n",
              "      border-right-color: var(--fill-color);\n",
              "      border-top-color: var(--fill-color);\n",
              "    }\n",
              "    60% {\n",
              "      border-color: transparent;\n",
              "      border-right-color: var(--fill-color);\n",
              "    }\n",
              "    80% {\n",
              "      border-color: transparent;\n",
              "      border-right-color: var(--fill-color);\n",
              "      border-bottom-color: var(--fill-color);\n",
              "    }\n",
              "    90% {\n",
              "      border-color: transparent;\n",
              "      border-bottom-color: var(--fill-color);\n",
              "    }\n",
              "  }\n",
              "</style>\n",
              "\n",
              "  <script>\n",
              "    async function quickchart(key) {\n",
              "      const quickchartButtonEl =\n",
              "        document.querySelector('#' + key + ' button');\n",
              "      quickchartButtonEl.disabled = true;  // To prevent multiple clicks.\n",
              "      quickchartButtonEl.classList.add('colab-df-spinner');\n",
              "      try {\n",
              "        const charts = await google.colab.kernel.invokeFunction(\n",
              "            'suggestCharts', [key], {});\n",
              "      } catch (error) {\n",
              "        console.error('Error during call to suggestCharts:', error);\n",
              "      }\n",
              "      quickchartButtonEl.classList.remove('colab-df-spinner');\n",
              "      quickchartButtonEl.classList.add('colab-df-quickchart-complete');\n",
              "    }\n",
              "    (() => {\n",
              "      let quickchartButtonEl =\n",
              "        document.querySelector('#df-59b5e771-7c60-444b-996a-aa3557652683 button');\n",
              "      quickchartButtonEl.style.display =\n",
              "        google.colab.kernel.accessAllowed ? 'block' : 'none';\n",
              "    })();\n",
              "  </script>\n",
              "</div>\n",
              "\n",
              "    </div>\n",
              "  </div>\n"
            ],
            "application/vnd.google.colaboratory.intrinsic+json": {
              "type": "dataframe",
              "summary": "{\n  \"name\": \"df[null_columns]\",\n  \"rows\": 245,\n  \"fields\": [\n    {\n      \"column\": \"Curah hujan\",\n      \"properties\": {\n        \"dtype\": \"number\",\n        \"std\": 1734.2152442282113,\n        \"min\": 222.5,\n        \"max\": 23985.0,\n        \"num_unique_values\": 232,\n        \"samples\": [\n          1568.0,\n          4241.2,\n          1296.8\n        ],\n        \"semantic_type\": \"\",\n        \"description\": \"\"\n      }\n    },\n    {\n      \"column\": \"Kelembapan\",\n      \"properties\": {\n        \"dtype\": \"number\",\n        \"std\": 4.808155376561835,\n        \"min\": 54.2,\n        \"max\": 90.6,\n        \"num_unique_values\": 183,\n        \"samples\": [\n          79.6,\n          86.0,\n          82.52\n        ],\n        \"semantic_type\": \"\",\n        \"description\": \"\"\n      }\n    },\n    {\n      \"column\": \"Suhu rata-rata\",\n      \"properties\": {\n        \"dtype\": \"number\",\n        \"std\": 1.1805950323308272,\n        \"min\": 22.19,\n        \"max\": 29.85,\n        \"num_unique_values\": 139,\n        \"samples\": [\n          26.36,\n          26.5,\n          29.59\n        ],\n        \"semantic_type\": \"\",\n        \"description\": \"\"\n      }\n    }\n  ]\n}"
            }
          },
          "metadata": {},
          "execution_count": 7
        }
      ]
    },
    {
      "cell_type": "code",
      "source": [
        "CH_median = df['Curah hujan'].median()\n",
        "CH_null_index = df['Curah hujan'].isna()\n",
        "df.loc[CH_null_index, 'Curah hujan'] = CH_median\n",
        "df[null_columns].isna().sum()"
      ],
      "metadata": {
        "colab": {
          "base_uri": "https://localhost:8080/"
        },
        "id": "DODKjRX3-N9T",
        "outputId": "ee2edc61-b29d-405f-feb1-efc2d19da893"
      },
      "execution_count": null,
      "outputs": [
        {
          "output_type": "execute_result",
          "data": {
            "text/plain": [
              "Curah hujan        0\n",
              "Kelembapan        11\n",
              "Suhu rata-rata     9\n",
              "dtype: int64"
            ]
          },
          "metadata": {},
          "execution_count": 8
        }
      ]
    },
    {
      "cell_type": "code",
      "source": [
        "kelembapan_mean = df['Kelembapan'].mean()\n",
        "kelembapan_null_index = df['Kelembapan'].isna()\n",
        "df.loc[kelembapan_null_index, 'Kelembapan'] = kelembapan_mean\n",
        "df[null_columns].isna().sum()"
      ],
      "metadata": {
        "colab": {
          "base_uri": "https://localhost:8080/"
        },
        "id": "TMuPwLIE-3YZ",
        "outputId": "47d3c88e-298a-44e5-8e4a-451e0251bb3e"
      },
      "execution_count": null,
      "outputs": [
        {
          "output_type": "execute_result",
          "data": {
            "text/plain": [
              "Curah hujan       0\n",
              "Kelembapan        0\n",
              "Suhu rata-rata    9\n",
              "dtype: int64"
            ]
          },
          "metadata": {},
          "execution_count": 9
        }
      ]
    },
    {
      "cell_type": "code",
      "source": [
        "suhu_mean = df['Suhu rata-rata'].mean()\n",
        "suhu_null_index = df['Suhu rata-rata'].isna()\n",
        "df.loc[suhu_null_index, 'Suhu rata-rata'] = suhu_mean\n",
        "df[null_columns].isna().sum()"
      ],
      "metadata": {
        "colab": {
          "base_uri": "https://localhost:8080/"
        },
        "id": "xGDpre4N_SbU",
        "outputId": "1d1431e5-dbb9-4ea3-9f83-d42c62af8a7e"
      },
      "execution_count": null,
      "outputs": [
        {
          "output_type": "execute_result",
          "data": {
            "text/plain": [
              "Curah hujan       0\n",
              "Kelembapan        0\n",
              "Suhu rata-rata    0\n",
              "dtype: int64"
            ]
          },
          "metadata": {},
          "execution_count": 10
        }
      ]
    },
    {
      "cell_type": "code",
      "source": [
        "df.isnull().sum()"
      ],
      "metadata": {
        "colab": {
          "base_uri": "https://localhost:8080/"
        },
        "id": "ngVN-EkEAPnm",
        "outputId": "f3a5b78f-5125-4973-ce7b-3c99a686e3e5"
      },
      "execution_count": null,
      "outputs": [
        {
          "output_type": "execute_result",
          "data": {
            "text/plain": [
              "Provinsi          0\n",
              "Tahun             0\n",
              "Produksi          0\n",
              "Luas Panen        0\n",
              "Curah hujan       0\n",
              "Kelembapan        0\n",
              "Suhu rata-rata    0\n",
              "dtype: int64"
            ]
          },
          "metadata": {},
          "execution_count": 11
        }
      ]
    },
    {
      "cell_type": "markdown",
      "source": [
        "#Outlier"
      ],
      "metadata": {
        "id": "c0mmYf_8dgJS"
      }
    },
    {
      "cell_type": "code",
      "source": [
        "#ukuran figure\n",
        "plt.figure(figsize=(12,8))\n",
        "\n",
        "#membuat subplot untuk setiap boxplot\n",
        "plt.subplot(3,2,1)\n",
        "sns.boxplot(x=df['Produksi'])\n",
        "plt.title(\"Produksi\")\n",
        "\n",
        "plt.subplot(3,2,2)\n",
        "sns.boxplot(x=df['Luas Panen'])\n",
        "plt.title(\"Luas Panen\")\n",
        "\n",
        "plt.subplot(3,2,3)\n",
        "sns.boxplot(x=df['Curah hujan'])\n",
        "plt.title(\"Curah hujan\")\n",
        "\n",
        "plt.subplot(3,2,4)\n",
        "sns.boxplot(x=df['Kelembapan'])\n",
        "plt.title(\"Kelembapan\")\n",
        "\n",
        "plt.subplot(3,2,5)\n",
        "sns.boxplot(x=df['Suhu rata-rata'])\n",
        "plt.title(\"Suhu rata-rata\")\n",
        "\n",
        "\n",
        "#Untuk layouting tampilan boxplot\n",
        "plt.tight_layout()\n",
        "\n",
        "plt.show()"
      ],
      "metadata": {
        "colab": {
          "base_uri": "https://localhost:8080/",
          "height": 807
        },
        "id": "4ruY7MAlAUhA",
        "outputId": "3a9bf4ae-7e52-4fdd-94cc-27b858f05ea6"
      },
      "execution_count": null,
      "outputs": [
        {
          "output_type": "display_data",
          "data": {
            "text/plain": [
              "<Figure size 1200x800 with 5 Axes>"
            ],
            "image/png": "[encoded data removed]"
          },
          "metadata": {}
        }
      ]
    },
    {
      "cell_type": "code",
      "source": [
        "df.shape"
      ],
      "metadata": {
        "colab": {
          "base_uri": "https://localhost:8080/"
        },
        "id": "Bu25MtEbDQXs",
        "outputId": "a5b258a5-921c-4f4f-c418-0b4e3a02a460"
      },
      "execution_count": null,
      "outputs": [
        {
          "output_type": "execute_result",
          "data": {
            "text/plain": [
              "(245, 7)"
            ]
          },
          "metadata": {},
          "execution_count": 13
        }
      ]
    },
    {
      "cell_type": "code",
      "source": [
        "Q1 = df['Curah hujan'].quantile(0.25)\n",
        "Q3 = df['Curah hujan'].quantile(0.75)\n",
        "IQR = Q3-Q1 #Interquartile Range\n",
        "\n",
        "df = df[~((df['Curah hujan']<(Q1-1.5*IQR)) | (df['Curah hujan']>(Q3+1.5*IQR)))]\n",
        "\n",
        "df.shape"
      ],
      "metadata": {
        "colab": {
          "base_uri": "https://localhost:8080/"
        },
        "id": "JWvUFT4tBfcj",
        "outputId": "d5a4b27f-e412-450a-e75b-c51b44d725f1"
      },
      "execution_count": null,
      "outputs": [
        {
          "output_type": "execute_result",
          "data": {
            "text/plain": [
              "(238, 7)"
            ]
          },
          "metadata": {},
          "execution_count": 14
        }
      ]
    },
    {
      "cell_type": "code",
      "source": [
        "Q1 = df['Kelembapan'].quantile(0.25)\n",
        "Q3 = df['Kelembapan'].quantile(0.75)\n",
        "IQR = Q3-Q1 #Interquartile Range\n",
        "\n",
        "df = df[~((df['Kelembapan']<(Q1-1.5*IQR)) | (df['Kelembapan']>(Q3+1.5*IQR)))]\n",
        "\n",
        "df.shape"
      ],
      "metadata": {
        "colab": {
          "base_uri": "https://localhost:8080/"
        },
        "id": "oapofbQRDUV4",
        "outputId": "11d01044-299a-41ad-da37-f7d82d796e66"
      },
      "execution_count": null,
      "outputs": [
        {
          "output_type": "execute_result",
          "data": {
            "text/plain": [
              "(223, 7)"
            ]
          },
          "metadata": {},
          "execution_count": 15
        }
      ]
    },
    {
      "cell_type": "code",
      "source": [
        "Q1 = df['Suhu rata-rata'].quantile(0.25)\n",
        "Q3 = df['Suhu rata-rata'].quantile(0.75)\n",
        "IQR = Q3-Q1 #Interquartile Range\n",
        "\n",
        "df = df[~((df['Suhu rata-rata']<(Q1-1.5*IQR)) | (df['Suhu rata-rata']>(Q3+1.5*IQR)))]\n",
        "\n",
        "df.shape"
      ],
      "metadata": {
        "colab": {
          "base_uri": "https://localhost:8080/"
        },
        "id": "MGxn5kNjEcXs",
        "outputId": "5ae0fa2a-158a-49e5-dccb-0a90018077c9"
      },
      "execution_count": null,
      "outputs": [
        {
          "output_type": "execute_result",
          "data": {
            "text/plain": [
              "(203, 7)"
            ]
          },
          "metadata": {},
          "execution_count": 16
        }
      ]
    },
    {
      "cell_type": "code",
      "source": [
        "#ukuran figure\n",
        "plt.figure(figsize=(12,8))\n",
        "\n",
        "#membuat subplot untuk setiap boxplot\n",
        "plt.subplot(3,2,1)\n",
        "sns.boxplot(x=df['Produksi'])\n",
        "plt.title(\"Produksi\")\n",
        "\n",
        "plt.subplot(3,2,2)\n",
        "sns.boxplot(x=df['Luas Panen'])\n",
        "plt.title(\"Luas Panen\")\n",
        "\n",
        "plt.subplot(3,2,3)\n",
        "sns.boxplot(x=df['Curah hujan'])\n",
        "plt.title(\"Curah hujan\")\n",
        "\n",
        "plt.subplot(3,2,4)\n",
        "sns.boxplot(x=df['Kelembapan'])\n",
        "plt.title(\"Kelembapan\")\n",
        "\n",
        "plt.subplot(3,2,5)\n",
        "sns.boxplot(x=df['Suhu rata-rata'])\n",
        "plt.title(\"Suhu rata-rata\")\n",
        "\n",
        "\n",
        "#Untuk layouting tampilan boxplot\n",
        "plt.tight_layout()\n",
        "\n",
        "plt.show()"
      ],
      "metadata": {
        "colab": {
          "base_uri": "https://localhost:8080/",
          "height": 807
        },
        "id": "AUVqUCweEsi9",
        "outputId": "875085c5-8607-4fa3-b8cc-aeeaa2ec71ea"
      },
      "execution_count": null,
      "outputs": [
        {
          "output_type": "display_data",
          "data": {
            "text/plain": [
              "<Figure size 1200x800 with 5 Axes>"
            ],
            "image/png": "[encoded data removed]"
          },
          "metadata": {}
        }
      ]
    },
    {
      "cell_type": "markdown",
      "source": [
        "#Encoding"
      ],
      "metadata": {
        "id": "MP9F9uIwnwJX"
      }
    },
    {
      "cell_type": "code",
      "source": [
        "from sklearn.preprocessing import LabelEncoder\n",
        "enc = LabelEncoder()\n",
        "df['Provinsi'] = enc.fit_transform(df['Provinsi'])\n",
        "df.tail(30)"
      ],
      "metadata": {
        "colab": {
          "base_uri": "https://localhost:8080/",
          "height": 990
        },
        "id": "1v8OPiN-E3iu",
        "outputId": "36197cf7-dc6d-4064-8e9f-664dddb36ad6"
      },
      "execution_count": null,
      "outputs": [
        {
          "output_type": "execute_result",
          "data": {
            "text/plain": [
              "     Provinsi  Tahun    Produksi  Luas Panen  Curah hujan  Kelembapan  \\\n",
              "212         1   2022   316527.00    78253.00       3475.0    80.93594   \n",
              "213         1   2023   572396.00    80192.30       3628.0    82.00000   \n",
              "214         3   1993  1646900.00   433078.00       2306.7    84.82000   \n",
              "215         3   1994  1615751.00   425940.00       2034.2    77.51000   \n",
              "216         3   1995  1943709.00   514363.00       3039.4    82.81000   \n",
              "217         3   1996  1971740.00   515192.00       1934.9    82.61000   \n",
              "218         3   1997  1753656.00   454087.00       1253.3    78.46000   \n",
              "219         3   1998  1975700.00   521575.00       2584.9    84.07000   \n",
              "220         3   1999  1801422.00   476899.00       2364.7    83.46000   \n",
              "221         3   2000  1946406.00   496879.00       1488.5    82.86000   \n",
              "222         3   2001  1992726.00   501119.00       2013.1    77.83000   \n",
              "223         3   2002  1951109.00   475461.00       2143.5    75.84000   \n",
              "226         3   2005  2124144.00   496538.00       1612.8    79.60000   \n",
              "227         3   2006  2129914.00   494102.00        560.3    74.60000   \n",
              "228         3   2007  2308404.00   524955.00       1941.4    75.90000   \n",
              "229         3   2008  2341075.00   506547.00       1940.1    79.00000   \n",
              "230         3   2009  2673844.00   570417.00       1789.0    79.10000   \n",
              "231         3   2010  2807676.00   590608.00       2710.0    82.30000   \n",
              "232         3   2011  2940795.00   606973.00       1568.0    77.80000   \n",
              "233         3   2012  3101455.00   641876.00       1685.0    79.20000   \n",
              "234         3   2013  3207002.00   638090.00       2456.7    81.00000   \n",
              "235         3   2014  3320064.00   648731.00       1682.5    79.90000   \n",
              "236         3   2015  3641895.00   707266.00       1628.1    78.90000   \n",
              "237         3   2016  3831923.00   390799.00       2317.6    79.40000   \n",
              "238         3   2017  4090654.00   396559.00       1825.1    77.04000   \n",
              "239         3   2018  2488641.91   511940.93       1385.8    76.05000   \n",
              "240         3   2019  2164089.33   464103.42       1706.4    78.03000   \n",
              "242         3   2021  2453827.00   501726.00       1829.0    78.00000   \n",
              "243         3   2022  3572882.30   552718.00       1999.0    78.20000   \n",
              "244         3   2023  3729376.00   589202.40       2018.0    80.00000   \n",
              "\n",
              "     Suhu rata-rata  \n",
              "212           25.70  \n",
              "213           26.00  \n",
              "214           26.41  \n",
              "215           25.73  \n",
              "216           26.43  \n",
              "217           26.27  \n",
              "218           26.68  \n",
              "219           26.95  \n",
              "220           26.24  \n",
              "221           28.20  \n",
              "222           26.71  \n",
              "223           27.50  \n",
              "226           26.59  \n",
              "227           26.18  \n",
              "228           27.60  \n",
              "229           26.40  \n",
              "230           26.70  \n",
              "231           26.70  \n",
              "232           26.80  \n",
              "233           26.80  \n",
              "234           26.70  \n",
              "235           25.80  \n",
              "236           27.10  \n",
              "237           26.45  \n",
              "238           26.36  \n",
              "239           25.50  \n",
              "240           27.23  \n",
              "242           25.00  \n",
              "243           26.20  \n",
              "244           26.40  "
            ],
            "text/html": [
              "\n",
              "  <div id=\"df-398e6cab-8da3-4b5b-b079-6031e033359e\" class=\"colab-df-container\">\n",
              "    <div>\n",
              "<style scoped>\n",
              "    .dataframe tbody tr th:only-of-type {\n",
              "        vertical-align: middle;\n",
              "    }\n",
              "\n",
              "    .dataframe tbody tr th {\n",
              "        vertical-align: top;\n",
              "    }\n",
              "\n",
              "    .dataframe thead th {\n",
              "        text-align: right;\n",
              "    }\n",
              "</style>\n",
              "<table border=\"1\" class=\"dataframe\">\n",
              "  <thead>\n",
              "    <tr style=\"text-align: right;\">\n",
              "      <th></th>\n",
              "      <th>Provinsi</th>\n",
              "      <th>Tahun</th>\n",
              "      <th>Produksi</th>\n",
              "      <th>Luas Panen</th>\n",
              "      <th>Curah hujan</th>\n",
              "      <th>Kelembapan</th>\n",
              "      <th>Suhu rata-rata</th>\n",
              "    </tr>\n",
              "  </thead>\n",
              "  <tbody>\n",
              "    <tr>\n",
              "      <th>212</th>\n",
              "      <td>1</td>\n",
              "      <td>2022</td>\n",
              "      <td>316527.00</td>\n",
              "      <td>78253.00</td>\n",
              "      <td>3475.0</td>\n",
              "      <td>80.93594</td>\n",
              "      <td>25.70</td>\n",
              "    </tr>\n",
              "    <tr>\n",
              "      <th>213</th>\n",
              "      <td>1</td>\n",
              "      <td>2023</td>\n",
              "      <td>572396.00</td>\n",
              "      <td>80192.30</td>\n",
              "      <td>3628.0</td>\n",
              "      <td>82.00000</td>\n",
              "      <td>26.00</td>\n",
              "    </tr>\n",
              "    <tr>\n",
              "      <th>214</th>\n",
              "      <td>3</td>\n",
              "      <td>1993</td>\n",
              "      <td>1646900.00</td>\n",
              "      <td>433078.00</td>\n",
              "      <td>2306.7</td>\n",
              "      <td>84.82000</td>\n",
              "      <td>26.41</td>\n",
              "    </tr>\n",
              "    <tr>\n",
              "      <th>215</th>\n",
              "      <td>3</td>\n",
              "      <td>1994</td>\n",
              "      <td>1615751.00</td>\n",
              "      <td>425940.00</td>\n",
              "      <td>2034.2</td>\n",
              "      <td>77.51000</td>\n",
              "      <td>25.73</td>\n",
              "    </tr>\n",
              "    <tr>\n",
              "      <th>216</th>\n",
              "      <td>3</td>\n",
              "      <td>1995</td>\n",
              "      <td>1943709.00</td>\n",
              "      <td>514363.00</td>\n",
              "      <td>3039.4</td>\n",
              "      <td>82.81000</td>\n",
              "      <td>26.43</td>\n",
              "    </tr>\n",
              "    <tr>\n",
              "      <th>217</th>\n",
              "      <td>3</td>\n",
              "      <td>1996</td>\n",
              "      <td>1971740.00</td>\n",
              "      <td>515192.00</td>\n",
              "      <td>1934.9</td>\n",
              "      <td>82.61000</td>\n",
              "      <td>26.27</td>\n",
              "    </tr>\n",
              "    <tr>\n",
              "      <th>218</th>\n",
              "      <td>3</td>\n",
              "      <td>1997</td>\n",
              "      <td>1753656.00</td>\n",
              "      <td>454087.00</td>\n",
              "      <td>1253.3</td>\n",
              "      <td>78.46000</td>\n",
              "      <td>26.68</td>\n",
              "    </tr>\n",
              "    <tr>\n",
              "      <th>219</th>\n",
              "      <td>3</td>\n",
              "      <td>1998</td>\n",
              "      <td>1975700.00</td>\n",
              "      <td>521575.00</td>\n",
              "      <td>2584.9</td>\n",
              "      <td>84.07000</td>\n",
              "      <td>26.95</td>\n",
              "    </tr>\n",
              "    <tr>\n",
              "      <th>220</th>\n",
              "      <td>3</td>\n",
              "      <td>1999</td>\n",
              "      <td>1801422.00</td>\n",
              "      <td>476899.00</td>\n",
              "      <td>2364.7</td>\n",
              "      <td>83.46000</td>\n",
              "      <td>26.24</td>\n",
              "    </tr>\n",
              "    <tr>\n",
              "      <th>221</th>\n",
              "      <td>3</td>\n",
              "      <td>2000</td>\n",
              "      <td>1946406.00</td>\n",
              "      <td>496879.00</td>\n",
              "      <td>1488.5</td>\n",
              "      <td>82.86000</td>\n",
              "      <td>28.20</td>\n",
              "    </tr>\n",
              "    <tr>\n",
              "      <th>222</th>\n",
              "      <td>3</td>\n",
              "      <td>2001</td>\n",
              "      <td>1992726.00</td>\n",
              "      <td>501119.00</td>\n",
              "      <td>2013.1</td>\n",
              "      <td>77.83000</td>\n",
              "      <td>26.71</td>\n",
              "    </tr>\n",
              "    <tr>\n",
              "      <th>223</th>\n",
              "      <td>3</td>\n",
              "      <td>2002</td>\n",
              "      <td>1951109.00</td>\n",
              "      <td>475461.00</td>\n",
              "      <td>2143.5</td>\n",
              "      <td>75.84000</td>\n",
              "      <td>27.50</td>\n",
              "    </tr>\n",
              "    <tr>\n",
              "      <th>226</th>\n",
              "      <td>3</td>\n",
              "      <td>2005</td>\n",
              "      <td>2124144.00</td>\n",
              "      <td>496538.00</td>\n",
              "      <td>1612.8</td>\n",
              "      <td>79.60000</td>\n",
              "      <td>26.59</td>\n",
              "    </tr>\n",
              "    <tr>\n",
              "      <th>227</th>\n",
              "      <td>3</td>\n",
              "      <td>2006</td>\n",
              "      <td>2129914.00</td>\n",
              "      <td>494102.00</td>\n",
              "      <td>560.3</td>\n",
              "      <td>74.60000</td>\n",
              "      <td>26.18</td>\n",
              "    </tr>\n",
              "    <tr>\n",
              "      <th>228</th>\n",
              "      <td>3</td>\n",
              "      <td>2007</td>\n",
              "      <td>2308404.00</td>\n",
              "      <td>524955.00</td>\n",
              "      <td>1941.4</td>\n",
              "      <td>75.90000</td>\n",
              "      <td>27.60</td>\n",
              "    </tr>\n",
              "    <tr>\n",
              "      <th>229</th>\n",
              "      <td>3</td>\n",
              "      <td>2008</td>\n",
              "      <td>2341075.00</td>\n",
              "      <td>506547.00</td>\n",
              "      <td>1940.1</td>\n",
              "      <td>79.00000</td>\n",
              "      <td>26.40</td>\n",
              "    </tr>\n",
              "    <tr>\n",
              "      <th>230</th>\n",
              "      <td>3</td>\n",
              "      <td>2009</td>\n",
              "      <td>2673844.00</td>\n",
              "      <td>570417.00</td>\n",
              "      <td>1789.0</td>\n",
              "      <td>79.10000</td>\n",
              "      <td>26.70</td>\n",
              "    </tr>\n",
              "    <tr>\n",
              "      <th>231</th>\n",
              "      <td>3</td>\n",
              "      <td>2010</td>\n",
              "      <td>2807676.00</td>\n",
              "      <td>590608.00</td>\n",
              "      <td>2710.0</td>\n",
              "      <td>82.30000</td>\n",
              "      <td>26.70</td>\n",
              "    </tr>\n",
              "    <tr>\n",
              "      <th>232</th>\n",
              "      <td>3</td>\n",
              "      <td>2011</td>\n",
              "      <td>2940795.00</td>\n",
              "      <td>606973.00</td>\n",
              "      <td>1568.0</td>\n",
              "      <td>77.80000</td>\n",
              "      <td>26.80</td>\n",
              "    </tr>\n",
              "    <tr>\n",
              "      <th>233</th>\n",
              "      <td>3</td>\n",
              "      <td>2012</td>\n",
              "      <td>3101455.00</td>\n",
              "      <td>641876.00</td>\n",
              "      <td>1685.0</td>\n",
              "      <td>79.20000</td>\n",
              "      <td>26.80</td>\n",
              "    </tr>\n",
              "    <tr>\n",
              "      <th>234</th>\n",
              "      <td>3</td>\n",
              "      <td>2013</td>\n",
              "      <td>3207002.00</td>\n",
              "      <td>638090.00</td>\n",
              "      <td>2456.7</td>\n",
              "      <td>81.00000</td>\n",
              "      <td>26.70</td>\n",
              "    </tr>\n",
              "    <tr>\n",
              "      <th>235</th>\n",
              "      <td>3</td>\n",
              "      <td>2014</td>\n",
              "      <td>3320064.00</td>\n",
              "      <td>648731.00</td>\n",
              "      <td>1682.5</td>\n",
              "      <td>79.90000</td>\n",
              "      <td>25.80</td>\n",
              "    </tr>\n",
              "    <tr>\n",
              "      <th>236</th>\n",
              "      <td>3</td>\n",
              "      <td>2015</td>\n",
              "      <td>3641895.00</td>\n",
              "      <td>707266.00</td>\n",
              "      <td>1628.1</td>\n",
              "      <td>78.90000</td>\n",
              "      <td>27.10</td>\n",
              "    </tr>\n",
              "    <tr>\n",
              "      <th>237</th>\n",
              "      <td>3</td>\n",
              "      <td>2016</td>\n",
              "      <td>3831923.00</td>\n",
              "      <td>390799.00</td>\n",
              "      <td>2317.6</td>\n",
              "      <td>79.40000</td>\n",
              "      <td>26.45</td>\n",
              "    </tr>\n",
              "    <tr>\n",
              "      <th>238</th>\n",
              "      <td>3</td>\n",
              "      <td>2017</td>\n",
              "      <td>4090654.00</td>\n",
              "      <td>396559.00</td>\n",
              "      <td>1825.1</td>\n",
              "      <td>77.04000</td>\n",
              "      <td>26.36</td>\n",
              "    </tr>\n",
              "    <tr>\n",
              "      <th>239</th>\n",
              "      <td>3</td>\n",
              "      <td>2018</td>\n",
              "      <td>2488641.91</td>\n",
              "      <td>511940.93</td>\n",
              "      <td>1385.8</td>\n",
              "      <td>76.05000</td>\n",
              "      <td>25.50</td>\n",
              "    </tr>\n",
              "    <tr>\n",
              "      <th>240</th>\n",
              "      <td>3</td>\n",
              "      <td>2019</td>\n",
              "      <td>2164089.33</td>\n",
              "      <td>464103.42</td>\n",
              "      <td>1706.4</td>\n",
              "      <td>78.03000</td>\n",
              "      <td>27.23</td>\n",
              "    </tr>\n",
              "    <tr>\n",
              "      <th>242</th>\n",
              "      <td>3</td>\n",
              "      <td>2021</td>\n",
              "      <td>2453827.00</td>\n",
              "      <td>501726.00</td>\n",
              "      <td>1829.0</td>\n",
              "      <td>78.00000</td>\n",
              "      <td>25.00</td>\n",
              "    </tr>\n",
              "    <tr>\n",
              "      <th>243</th>\n",
              "      <td>3</td>\n",
              "      <td>2022</td>\n",
              "      <td>3572882.30</td>\n",
              "      <td>552718.00</td>\n",
              "      <td>1999.0</td>\n",
              "      <td>78.20000</td>\n",
              "      <td>26.20</td>\n",
              "    </tr>\n",
              "    <tr>\n",
              "      <th>244</th>\n",
              "      <td>3</td>\n",
              "      <td>2023</td>\n",
              "      <td>3729376.00</td>\n",
              "      <td>589202.40</td>\n",
              "      <td>2018.0</td>\n",
              "      <td>80.00000</td>\n",
              "      <td>26.40</td>\n",
              "    </tr>\n",
              "  </tbody>\n",
              "</table>\n",
              "</div>\n",
              "    <div class=\"colab-df-buttons\">\n",
              "\n",
              "  <div class=\"colab-df-container\">\n",
              "    <button class=\"colab-df-convert\" onclick=\"convertToInteractive('df-398e6cab-8da3-4b5b-b079-6031e033359e')\"\n",
              "            title=\"Convert this dataframe to an interactive table.\"\n",
              "            style=\"display:none;\">\n",
              "\n",
              "  <svg xmlns=\"http://www.w3.org/2000/svg\" height=\"24px\" viewBox=\"0 -960 960 960\">\n",
              "    <path d=\"M120-120v-720h720v720H120Zm60-500h600v-160H180v160Zm220 220h160v-160H400v160Zm0 220h160v-160H400v160ZM180-400h160v-160H180v160Zm440 0h160v-160H620v160ZM180-180h160v-160H180v160Zm440 0h160v-160H620v160Z\"/>\n",
              "  </svg>\n",
              "    </button>\n",
              "\n",
              "  <style>\n",
              "    .colab-df-container {\n",
              "      display:flex;\n",
              "      gap: 12px;\n",
              "    }\n",
              "\n",
              "    .colab-df-convert {\n",
              "      background-color: #E8F0FE;\n",
              "      border: none;\n",
              "      border-radius: 50%;\n",
              "      cursor: pointer;\n",
              "      display: none;\n",
              "      fill: #1967D2;\n",
              "      height: 32px;\n",
              "      padding: 0 0 0 0;\n",
              "      width: 32px;\n",
              "    }\n",
              "\n",
              "    .colab-df-convert:hover {\n",
              "      background-color: #E2EBFA;\n",
              "      box-shadow: 0px 1px 2px rgba(60, 64, 67, 0.3), 0px 1px 3px 1px rgba(60, 64, 67, 0.15);\n",
              "      fill: #174EA6;\n",
              "    }\n",
              "\n",
              "    .colab-df-buttons div {\n",
              "      margin-bottom: 4px;\n",
              "    }\n",
              "\n",
              "    [theme=dark] .colab-df-convert {\n",
              "      background-color: #3B4455;\n",
              "      fill: #D2E3FC;\n",
              "    }\n",
              "\n",
              "    [theme=dark] .colab-df-convert:hover {\n",
              "      background-color: #434B5C;\n",
              "      box-shadow: 0px 1px 3px 1px rgba(0, 0, 0, 0.15);\n",
              "      filter: drop-shadow(0px 1px 2px rgba(0, 0, 0, 0.3));\n",
              "      fill: #FFFFFF;\n",
              "    }\n",
              "  </style>\n",
              "\n",
              "    <script>\n",
              "      const buttonEl =\n",
              "        document.querySelector('#df-398e6cab-8da3-4b5b-b079-6031e033359e button.colab-df-convert');\n",
              "      buttonEl.style.display =\n",
              "        google.colab.kernel.accessAllowed ? 'block' : 'none';\n",
              "\n",
              "      async function convertToInteractive(key) {\n",
              "        const element = document.querySelector('#df-398e6cab-8da3-4b5b-b079-6031e033359e');\n",
              "        const dataTable =\n",
              "          await google.colab.kernel.invokeFunction('convertToInteractive',\n",
              "                                                    [key], {});\n",
              "        if (!dataTable) return;\n",
              "\n",
              "        const docLinkHtml = 'Like what you see? Visit the ' +\n",
              "          '<a target=\"_blank\" href=https://colab.research.google.com/notebooks/data_table.ipynb>data table notebook</a>'\n",
              "          + ' to learn more about interactive tables.';\n",
              "        element.innerHTML = '';\n",
              "        dataTable['output_type'] = 'display_data';\n",
              "        await google.colab.output.renderOutput(dataTable, element);\n",
              "        const docLink = document.createElement('div');\n",
              "        docLink.innerHTML = docLinkHtml;\n",
              "        element.appendChild(docLink);\n",
              "      }\n",
              "    </script>\n",
              "  </div>\n",
              "\n",
              "\n",
              "<div id=\"df-aae827a3-2271-4071-a223-6a1a364e0082\">\n",
              "  <button class=\"colab-df-quickchart\" onclick=\"quickchart('df-aae827a3-2271-4071-a223-6a1a364e0082')\"\n",
              "            title=\"Suggest charts\"\n",
              "            style=\"display:none;\">\n",
              "\n",
              "<svg xmlns=\"http://www.w3.org/2000/svg\" height=\"24px\"viewBox=\"0 0 24 24\"\n",
              "     width=\"24px\">\n",
              "    <g>\n",
              "        <path d=\"M19 3H5c-1.1 0-2 .9-2 2v14c0 1.1.9 2 2 2h14c1.1 0 2-.9 2-2V5c0-1.1-.9-2-2-2zM9 17H7v-7h2v7zm4 0h-2V7h2v10zm4 0h-2v-4h2v4z\"/>\n",
              "    </g>\n",
              "</svg>\n",
              "  </button>\n",
              "\n",
              "<style>\n",
              "  .colab-df-quickchart {\n",
              "      --bg-color: #E8F0FE;\n",
              "      --fill-color: #1967D2;\n",
              "      --hover-bg-color: #E2EBFA;\n",
              "      --hover-fill-color: #174EA6;\n",
              "      --disabled-fill-color: #AAA;\n",
              "      --disabled-bg-color: #DDD;\n",
              "  }\n",
              "\n",
              "  [theme=dark] .colab-df-quickchart {\n",
              "      --bg-color: #3B4455;\n",
              "      --fill-color: #D2E3FC;\n",
              "      --hover-bg-color: #434B5C;\n",
              "      --hover-fill-color: #FFFFFF;\n",
              "      --disabled-bg-color: #3B4455;\n",
              "      --disabled-fill-color: #666;\n",
              "  }\n",
              "\n",
              "  .colab-df-quickchart {\n",
              "    background-color: var(--bg-color);\n",
              "    border: none;\n",
              "    border-radius: 50%;\n",
              "    cursor: pointer;\n",
              "    display: none;\n",
              "    fill: var(--fill-color);\n",
              "    height: 32px;\n",
              "    padding: 0;\n",
              "    width: 32px;\n",
              "  }\n",
              "\n",
              "  .colab-df-quickchart:hover {\n",
              "    background-color: var(--hover-bg-color);\n",
              "    box-shadow: 0 1px 2px rgba(60, 64, 67, 0.3), 0 1px 3px 1px rgba(60, 64, 67, 0.15);\n",
              "    fill: var(--button-hover-fill-color);\n",
              "  }\n",
              "\n",
              "  .colab-df-quickchart-complete:disabled,\n",
              "  .colab-df-quickchart-complete:disabled:hover {\n",
              "    background-color: var(--disabled-bg-color);\n",
              "    fill: var(--disabled-fill-color);\n",
              "    box-shadow: none;\n",
              "  }\n",
              "\n",
              "  .colab-df-spinner {\n",
              "    border: 2px solid var(--fill-color);\n",
              "    border-color: transparent;\n",
              "    border-bottom-color: var(--fill-color);\n",
              "    animation:\n",
              "      spin 1s steps(1) infinite;\n",
              "  }\n",
              "\n",
              "  @keyframes spin {\n",
              "    0% {\n",
              "      border-color: transparent;\n",
              "      border-bottom-color: var(--fill-color);\n",
              "      border-left-color: var(--fill-color);\n",
              "    }\n",
              "    20% {\n",
              "      border-color: transparent;\n",
              "      border-left-color: var(--fill-color);\n",
              "      border-top-color: var(--fill-color);\n",
              "    }\n",
              "    30% {\n",
              "      border-color: transparent;\n",
              "      border-left-color: var(--fill-color);\n",
              "      border-top-color: var(--fill-color);\n",
              "      border-right-color: var(--fill-color);\n",
              "    }\n",
              "    40% {\n",
              "      border-color: transparent;\n",
              "      border-right-color: var(--fill-color);\n",
              "      border-top-color: var(--fill-color);\n",
              "    }\n",
              "    60% {\n",
              "      border-color: transparent;\n",
              "      border-right-color: var(--fill-color);\n",
              "    }\n",
              "    80% {\n",
              "      border-color: transparent;\n",
              "      border-right-color: var(--fill-color);\n",
              "      border-bottom-color: var(--fill-color);\n",
              "    }\n",
              "    90% {\n",
              "      border-color: transparent;\n",
              "      border-bottom-color: var(--fill-color);\n",
              "    }\n",
              "  }\n",
              "</style>\n",
              "\n",
              "  <script>\n",
              "    async function quickchart(key) {\n",
              "      const quickchartButtonEl =\n",
              "        document.querySelector('#' + key + ' button');\n",
              "      quickchartButtonEl.disabled = true;  // To prevent multiple clicks.\n",
              "      quickchartButtonEl.classList.add('colab-df-spinner');\n",
              "      try {\n",
              "        const charts = await google.colab.kernel.invokeFunction(\n",
              "            'suggestCharts', [key], {});\n",
              "      } catch (error) {\n",
              "        console.error('Error during call to suggestCharts:', error);\n",
              "      }\n",
              "      quickchartButtonEl.classList.remove('colab-df-spinner');\n",
              "      quickchartButtonEl.classList.add('colab-df-quickchart-complete');\n",
              "    }\n",
              "    (() => {\n",
              "      let quickchartButtonEl =\n",
              "        document.querySelector('#df-aae827a3-2271-4071-a223-6a1a364e0082 button');\n",
              "      quickchartButtonEl.style.display =\n",
              "        google.colab.kernel.accessAllowed ? 'block' : 'none';\n",
              "    })();\n",
              "  </script>\n",
              "</div>\n",
              "\n",
              "    </div>\n",
              "  </div>\n"
            ],
            "application/vnd.google.colaboratory.intrinsic+json": {
              "type": "dataframe",
              "summary": "{\n  \"name\": \"df\",\n  \"rows\": 30,\n  \"fields\": [\n    {\n      \"column\": \"Provinsi\",\n      \"properties\": {\n        \"dtype\": \"number\",\n        \"std\": 0,\n        \"min\": 1,\n        \"max\": 3,\n        \"num_unique_values\": 2,\n        \"samples\": [\n          3,\n          1\n        ],\n        \"semantic_type\": \"\",\n        \"description\": \"\"\n      }\n    },\n    {\n      \"column\": \"Tahun\",\n      \"properties\": {\n        \"dtype\": \"number\",\n        \"std\": 9,\n        \"min\": 1993,\n        \"max\": 2023,\n        \"num_unique_values\": 28,\n        \"samples\": [\n          2000,\n          2018\n        ],\n        \"semantic_type\": \"\",\n        \"description\": \"\"\n      }\n    },\n    {\n      \"column\": \"Produksi\",\n      \"properties\": {\n        \"dtype\": \"number\",\n        \"std\": 892940.563494698,\n        \"min\": 316527.0,\n        \"max\": 4090654.0,\n        \"num_unique_values\": 30,\n        \"samples\": [\n          2453827.0,\n          2341075.0\n        ],\n        \"semantic_type\": \"\",\n        \"description\": \"\"\n      }\n    },\n    {\n      \"column\": \"Luas Panen\",\n      \"properties\": {\n        \"dtype\": \"number\",\n        \"std\": 135363.46936733872,\n        \"min\": 78253.0,\n        \"max\": 707266.0,\n        \"num_unique_values\": 30,\n        \"samples\": [\n          501726.0,\n          506547.0\n        ],\n        \"semantic_type\": \"\",\n        \"description\": \"\"\n      }\n    },\n    {\n      \"column\": \"Curah hujan\",\n      \"properties\": {\n        \"dtype\": \"number\",\n        \"std\": 627.774979453296,\n        \"min\": 560.3,\n        \"max\": 3628.0,\n        \"num_unique_values\": 30,\n        \"samples\": [\n          1829.0,\n          1940.1\n        ],\n        \"semantic_type\": \"\",\n        \"description\": \"\"\n      }\n    },\n    {\n      \"column\": \"Kelembapan\",\n      \"properties\": {\n        \"dtype\": \"number\",\n        \"std\": 2.63566169047856,\n        \"min\": 74.6,\n        \"max\": 84.82,\n        \"num_unique_values\": 30,\n        \"samples\": [\n          78.0,\n          79.0\n        ],\n        \"semantic_type\": \"\",\n        \"description\": \"\"\n      }\n    },\n    {\n      \"column\": \"Suhu rata-rata\",\n      \"properties\": {\n        \"dtype\": \"number\",\n        \"std\": 0.6477353120548229,\n        \"min\": 25.0,\n        \"max\": 28.2,\n        \"num_unique_values\": 26,\n        \"samples\": [\n          26.24,\n          26.7\n        ],\n        \"semantic_type\": \"\",\n        \"description\": \"\"\n      }\n    }\n  ]\n}"
            }
          },
          "metadata": {},
          "execution_count": 18
        }
      ]
    },
    {
      "cell_type": "markdown",
      "source": [
        "#Korelasi dan Visualisasi"
      ],
      "metadata": {
        "id": "ewmvbRv7djCq"
      }
    },
    {
      "cell_type": "code",
      "source": [
        "plt.figure(figsize=(12,8))\n",
        "sns.heatmap(df.corr(),annot=True, cmap='coolwarm', fmt='.2f')\n",
        "plt.title(\"Melihat Korelasi antar Feature\")\n",
        "plt.show()"
      ],
      "metadata": {
        "colab": {
          "base_uri": "https://localhost:8080/",
          "height": 699
        },
        "id": "NkzvwN4WGmc9",
        "outputId": "638c6161-c25b-4552-dbea-2df058437e2f"
      },
      "execution_count": null,
      "outputs": [
        {
          "output_type": "display_data",
          "data": {
            "text/plain": [
              "<Figure size 1200x800 with 2 Axes>"
            ],
            "image/png": "[encoded data removed]"
          },
          "metadata": {}
        }
      ]
    },
    {
      "cell_type": "code",
      "source": [
        "ypoints = df['Produksi']\n",
        "xpoints = df['Provinsi']\n",
        "\n",
        "plt.scatter(xpoints, ypoints)\n",
        "plt.show()"
      ],
      "metadata": {
        "colab": {
          "base_uri": "https://localhost:8080/",
          "height": 445
        },
        "id": "Mn089u3LIymP",
        "outputId": "b0496f39-4da0-4198-bd93-13aba6469c32"
      },
      "execution_count": null,
      "outputs": [
        {
          "output_type": "display_data",
          "data": {
            "text/plain": [
              "<Figure size 640x480 with 1 Axes>"
            ],
            "image/png": "[encoded data removed]"
          },
          "metadata": {}
        }
      ]
    },
    {
      "cell_type": "code",
      "source": [
        "ypoints = df['Produksi']\n",
        "xpoints = df['Tahun']\n",
        "\n",
        "plt.scatter(xpoints, ypoints)\n",
        "plt.show()"
      ],
      "metadata": {
        "colab": {
          "base_uri": "https://localhost:8080/",
          "height": 445
        },
        "id": "2URC7eNFH7pn",
        "outputId": "fe70d453-dda8-460d-d6ac-88362c4e2a91"
      },
      "execution_count": null,
      "outputs": [
        {
          "output_type": "display_data",
          "data": {
            "text/plain": [
              "<Figure size 640x480 with 1 Axes>"
            ],
            "image/png": "[encoded data removed]"
          },
          "metadata": {}
        }
      ]
    },
    {
      "cell_type": "code",
      "source": [
        "ypoints = df['Produksi']\n",
        "xpoints = df['Luas Panen']\n",
        "\n",
        "plt.scatter(xpoints, ypoints)\n",
        "plt.show()"
      ],
      "metadata": {
        "colab": {
          "base_uri": "https://localhost:8080/",
          "height": 445
        },
        "id": "E7XeWqOEIW6z",
        "outputId": "f61fb771-22bb-49ab-9919-5183127b003d"
      },
      "execution_count": null,
      "outputs": [
        {
          "output_type": "display_data",
          "data": {
            "text/plain": [
              "<Figure size 640x480 with 1 Axes>"
            ],
            "image/png": "[encoded data removed]"
          },
          "metadata": {}
        }
      ]
    },
    {
      "cell_type": "code",
      "source": [
        "ypoints = df['Produksi']\n",
        "xpoints = df['Suhu rata-rata']\n",
        "\n",
        "plt.scatter(xpoints, ypoints)\n",
        "plt.show()"
      ],
      "metadata": {
        "colab": {
          "base_uri": "https://localhost:8080/",
          "height": 445
        },
        "id": "mecC66dIIlxZ",
        "outputId": "792743b3-2fc0-45c8-f6dc-fb39c78fa420"
      },
      "execution_count": null,
      "outputs": [
        {
          "output_type": "display_data",
          "data": {
            "text/plain": [
              "<Figure size 640x480 with 1 Axes>"
            ],
            "image/png": "[encoded data removed]"
          },
          "metadata": {}
        }
      ]
    },
    {
      "cell_type": "code",
      "source": [
        "x=df['Suhu rata-rata']\n",
        "y=df['Produksi']\n",
        "plt.bar(x, y, color='b')\n",
        "plt.plot()\n",
        "\n",
        "plt.xlabel(\"bar number\")\n",
        "plt.ylabel(\"bar height\")\n",
        "plt.title(\"Bar Chart Example\")\n",
        "plt.legend()\n",
        "plt.show()"
      ],
      "metadata": {
        "colab": {
          "base_uri": "https://localhost:8080/",
          "height": 489
        },
        "id": "2snUQ8kUIvXD",
        "outputId": "37c89f50-925d-42f6-c431-7a15467a71c8"
      },
      "execution_count": null,
      "outputs": [
        {
          "output_type": "stream",
          "name": "stderr",
          "text": [
            "WARNING:matplotlib.legend:No artists with labels found to put in legend.  Note that artists whose label start with an underscore are ignored when legend() is called with no argument.\n"
          ]
        },
        {
          "output_type": "display_data",
          "data": {
            "text/plain": [
              "<Figure size 640x480 with 1 Axes>"
            ],
            "image/png": "[encoded data removed]"
          },
          "metadata": {}
        }
      ]
    },
    {
      "cell_type": "code",
      "source": [
        "cor = df.corr()\n",
        "plt.figure(figsize=(10,7))\n",
        "sns.heatmap(cor, cmap='coolwarm',annot=True)\n",
        "plt.show()"
      ],
      "metadata": {
        "colab": {
          "base_uri": "https://localhost:8080/",
          "height": 692
        },
        "id": "gW1cpsEGVVfx",
        "outputId": "752aa988-010f-4927-9d63-a05c44bc3b60"
      },
      "execution_count": null,
      "outputs": [
        {
          "output_type": "display_data",
          "data": {
            "text/plain": [
              "<Figure size 1000x700 with 2 Axes>"
            ],
            "image/png": "[encoded data removed]"
          },
          "metadata": {}
        }
      ]
    },
    {
      "cell_type": "markdown",
      "source": [
        "#Splitting"
      ],
      "metadata": {
        "id": "XMK6vQHodooW"
      }
    },
    {
      "cell_type": "code",
      "source": [
        "#Korelasi dengan variabel keluaran\n",
        "cor_target = (cor['Produksi'])\n",
        "#Memilih fitur yang sangat berkorelasi\n",
        "relevant_features = cor_target[cor_target>0.1]\n",
        "relevant_features"
      ],
      "metadata": {
        "colab": {
          "base_uri": "https://localhost:8080/"
        },
        "id": "r9EDwbBeTyyt",
        "outputId": "88e0e700-8cd2-4953-b98d-220fe52b5e29"
      },
      "execution_count": null,
      "outputs": [
        {
          "output_type": "execute_result",
          "data": {
            "text/plain": [
              "Provinsi          0.568482\n",
              "Tahun             0.136307\n",
              "Produksi          1.000000\n",
              "Luas Panen        0.913062\n",
              "Suhu rata-rata    0.213051\n",
              "Name: Produksi, dtype: float64"
            ]
          },
          "metadata": {},
          "execution_count": 27
        }
      ]
    },
    {
      "cell_type": "code",
      "source": [
        "# Menyaring DataFrame berdasarkan fitur-fitur yang sangat berkorelasi\n",
        "df_fix = df[relevant_features.index]\n",
        "\n",
        "# Menampilkan lima baris pertama dari DataFrame baru sebagai tabel\n",
        "print(df_fix.head(5).to_markdown(index=False))"
      ],
      "metadata": {
        "colab": {
          "base_uri": "https://localhost:8080/"
        },
        "id": "8zzYpmM6Vs-9",
        "outputId": "15355406-cad6-496a-f79c-eda97203312f"
      },
      "execution_count": null,
      "outputs": [
        {
          "output_type": "stream",
          "name": "stdout",
          "text": [
            "|   Provinsi |   Tahun |    Produksi |   Luas Panen |   Suhu rata-rata |\n",
            "|-----------:|--------:|------------:|-------------:|-----------------:|\n",
            "|          0 |    1993 | 1.32954e+06 |       323589 |            26.06 |\n",
            "|          0 |    1994 | 1.2997e+06  |       329041 |            26.92 |\n",
            "|          0 |    1995 | 1.3829e+06  |       339253 |            26.27 |\n",
            "|          0 |    1996 | 1.41913e+06 |       348223 |            26.08 |\n",
            "|          0 |    1997 | 1.36807e+06 |       337561 |            26.31 |\n"
          ]
        }
      ]
    },
    {
      "cell_type": "code",
      "source": [
        "from sklearn.model_selection import train_test_split\n",
        "x = df_fix.drop(['Produksi'], axis=1) #fitur\n",
        "y = df_fix['Produksi'] #target\n",
        "\n",
        "x_train, x_test, y_train, y_test = train_test_split(x,y,test_size=0.3, random_state=123)"
      ],
      "metadata": {
        "id": "caBCOmibN5aS"
      },
      "execution_count": null,
      "outputs": []
    },
    {
      "cell_type": "code",
      "source": [
        "print('Total sampel dari semua dataset : ', (len(x)))\n",
        "print('Total sampel dari dataset latih : ', (len(x_train)))\n",
        "print('Total sampel dari dataset uji : ', (len(x_test)))"
      ],
      "metadata": {
        "colab": {
          "base_uri": "https://localhost:8080/"
        },
        "id": "pM07AvztPMzv",
        "outputId": "abf54760-f62c-4c11-b7c3-6e854fb65344"
      },
      "execution_count": null,
      "outputs": [
        {
          "output_type": "stream",
          "name": "stdout",
          "text": [
            "Total sampel dari semua dataset :  203\n",
            "Total sampel dari dataset latih :  142\n",
            "Total sampel dari dataset uji :  61\n"
          ]
        }
      ]
    },
    {
      "cell_type": "markdown",
      "source": [
        "#Modeling"
      ],
      "metadata": {
        "id": "skot99ekdujs"
      }
    },
    {
      "cell_type": "code",
      "source": [
        "from sklearn.linear_model import LinearRegression\n",
        "model = LinearRegression()\n",
        "\n",
        "model.fit(x_train, y_train) #fit untuk koef regresi dg minimal kesalahan kuadrat\n",
        "\n",
        "y_train_pred = model.predict(x_train)\n",
        "y_test_pred = model.predict(x_test)"
      ],
      "metadata": {
        "id": "N0tJblvVPPNL"
      },
      "execution_count": null,
      "outputs": []
    },
    {
      "cell_type": "code",
      "source": [
        "# Coefficient dan Intercept\n",
        "print ('Coefficients: ', model.coef_)\n",
        "print ('Intercept: ', model.intercept_)"
      ],
      "metadata": {
        "colab": {
          "base_uri": "https://localhost:8080/"
        },
        "id": "I1iqMzi-YK8v",
        "outputId": "70b7ba5b-ba39-42cc-a62c-6a78d55a0928"
      },
      "execution_count": null,
      "outputs": [
        {
          "output_type": "stream",
          "name": "stdout",
          "text": [
            "Coefficients:  [-8.09750211e+03  2.84593209e+04  4.67095958e+00 -7.23986598e+03]\n",
            "Intercept:  -56986639.182685584\n"
          ]
        }
      ]
    },
    {
      "cell_type": "code",
      "source": [
        "#The predicted data\n",
        "y_prediksi = model.predict(x_test)"
      ],
      "metadata": {
        "id": "lmfNLNP-PTAy"
      },
      "execution_count": null,
      "outputs": []
    },
    {
      "cell_type": "code",
      "source": [
        "#Lakukan evaluasi performa\n",
        "#tampilkan hasil dari data aktual dan data prediksi\n",
        "df = pd.DataFrame({'aktual': y_test, 'Prediksi': y_prediksi})\n",
        "print(df.head(10))"
      ],
      "metadata": {
        "colab": {
          "base_uri": "https://localhost:8080/"
        },
        "id": "nPg5dTphWcOd",
        "outputId": "2e95b30b-647c-4988-faff-df7e005d36d0"
      },
      "execution_count": null,
      "outputs": [
        {
          "output_type": "stream",
          "name": "stdout",
          "text": [
            "         aktual      Prediksi\n",
            "66   1759059.00  1.558285e+06\n",
            "133   579635.00  5.877989e+05\n",
            "214  1646900.00  1.540180e+06\n",
            "186   396977.00  1.938183e+05\n",
            "23   2180754.00  1.559911e+06\n",
            "198   484900.00  5.567465e+05\n",
            "167  2971286.00  3.273811e+06\n",
            "119   269836.65  6.262203e+05\n",
            "71   1907390.00  1.840565e+06\n",
            "200   516869.00  6.386455e+05\n"
          ]
        }
      ]
    },
    {
      "cell_type": "code",
      "source": [
        "# Display\n",
        "plt.figure(figsize=(10, 6))\n",
        "plt.scatter(y_prediksi, y_test, edgecolor='k')\n",
        "plt.plot([y_prediksi.min(), y_prediksi.max()], [y_prediksi.min(), y_prediksi.max()], c='r', lw=2)\n",
        "plt.title(\"Actual VS Predicted Prices\")\n",
        "plt.xlabel(\"Predicted Price\")\n",
        "plt.ylabel(\"Actual Price\")\n",
        "plt.show()"
      ],
      "metadata": {
        "colab": {
          "base_uri": "https://localhost:8080/",
          "height": 564
        },
        "id": "koqdSWssWc-_",
        "outputId": "1d02fbaf-6318-4d25-d81b-8785836b064d"
      },
      "execution_count": null,
      "outputs": [
        {
          "output_type": "display_data",
          "data": {
            "text/plain": [
              "<Figure size 1000x600 with 1 Axes>"
            ],
            "image/png": "[encoded data removed]"
          },
          "metadata": {}
        }
      ]
    },
    {
      "cell_type": "markdown",
      "source": [
        "#Evaluasi"
      ],
      "metadata": {
        "id": "iW9TzyAkZ74j"
      }
    },
    {
      "cell_type": "code",
      "source": [
        "from sklearn.metrics import mean_squared_error, mean_absolute_error, r2_score, mean_absolute_percentage_error\n",
        "print('Testing Score:',r2_score(y_test,y_prediksi))\n",
        "#print('Training Score:',rf.score(X_train,y_train))"
      ],
      "metadata": {
        "colab": {
          "base_uri": "https://localhost:8080/"
        },
        "id": "pwPq3r7rWxD1",
        "outputId": "393a2772-bfc1-429c-d300-61300cd96a3d"
      },
      "execution_count": null,
      "outputs": [
        {
          "output_type": "stream",
          "name": "stdout",
          "text": [
            "Testing Score: 0.9004959107773702\n"
          ]
        }
      ]
    },
    {
      "cell_type": "code",
      "source": [
        "#melakukan evaluasi/ pengukuran performa algoritma\n",
        "#menghitung nilai MAE, MSE dan RMSE\n",
        "\n",
        "print('Mean Absolute Error:', mean_absolute_error(y_test, y_prediksi))\n",
        "print('Mean Squared Error:', mean_squared_error(y_test, y_prediksi))\n",
        "print('Root Mean Squared Error:', np.sqrt(mean_squared_error(y_test, y_prediksi)))\n",
        "print('Mean Absolute Percentage Error: {:.2f}%'.format(mean_absolute_percentage_error(y_test, y_prediksi) * 100))"
      ],
      "metadata": {
        "colab": {
          "base_uri": "https://localhost:8080/"
        },
        "id": "m-0AuL5xXBv-",
        "outputId": "8512b22d-db75-473c-800f-de4b1b0800c7"
      },
      "execution_count": null,
      "outputs": [
        {
          "output_type": "stream",
          "name": "stdout",
          "text": [
            "Mean Absolute Error: 219733.26187501432\n",
            "Mean Squared Error: 155179459601.89053\n",
            "Root Mean Squared Error: 393928.241691162\n",
            "Mean Absolute Percentage Error: 23.37%\n"
          ]
        }
      ]
    },
    {
      "cell_type": "markdown",
      "source": [
        "#Convert to CSV"
      ],
      "metadata": {
        "id": "q-AAkXaK6DRl"
      }
    },
    {
      "cell_type": "code",
      "source": [
        "df"
      ],
      "metadata": {
        "id": "lShozOT2TvJx",
        "outputId": "bcdc1060-b36c-4146-8dba-d4f74cc0a10f",
        "colab": {
          "base_uri": "https://localhost:8080/",
          "height": 423
        }
      },
      "execution_count": 48,
      "outputs": [
        {
          "output_type": "execute_result",
          "data": {
            "text/plain": [
              "        aktual      Prediksi\n",
              "66   1759059.0  1.558285e+06\n",
              "133   579635.0  5.877989e+05\n",
              "214  1646900.0  1.540180e+06\n",
              "186   396977.0  1.938183e+05\n",
              "23   2180754.0  1.559911e+06\n",
              "..         ...           ...\n",
              "235  3320064.0  3.149548e+06\n",
              "182  3562837.0  3.902034e+06\n",
              "14   1556858.0  1.625125e+06\n",
              "217  1971740.0  2.010123e+06\n",
              "212   316527.0  7.294622e+05\n",
              "\n",
              "[61 rows x 2 columns]"
            ],
            "text/html": [
              "\n",
              "  <div id=\"df-4e51695c-0509-4b1d-adf3-980b5a51aec9\" class=\"colab-df-container\">\n",
              "    <div>\n",
              "<style scoped>\n",
              "    .dataframe tbody tr th:only-of-type {\n",
              "        vertical-align: middle;\n",
              "    }\n",
              "\n",
              "    .dataframe tbody tr th {\n",
              "        vertical-align: top;\n",
              "    }\n",
              "\n",
              "    .dataframe thead th {\n",
              "        text-align: right;\n",
              "    }\n",
              "</style>\n",
              "<table border=\"1\" class=\"dataframe\">\n",
              "  <thead>\n",
              "    <tr style=\"text-align: right;\">\n",
              "      <th></th>\n",
              "      <th>aktual</th>\n",
              "      <th>Prediksi</th>\n",
              "    </tr>\n",
              "  </thead>\n",
              "  <tbody>\n",
              "    <tr>\n",
              "      <th>66</th>\n",
              "      <td>1759059.0</td>\n",
              "      <td>1.558285e+06</td>\n",
              "    </tr>\n",
              "    <tr>\n",
              "      <th>133</th>\n",
              "      <td>579635.0</td>\n",
              "      <td>5.877989e+05</td>\n",
              "    </tr>\n",
              "    <tr>\n",
              "      <th>214</th>\n",
              "      <td>1646900.0</td>\n",
              "      <td>1.540180e+06</td>\n",
              "    </tr>\n",
              "    <tr>\n",
              "      <th>186</th>\n",
              "      <td>396977.0</td>\n",
              "      <td>1.938183e+05</td>\n",
              "    </tr>\n",
              "    <tr>\n",
              "      <th>23</th>\n",
              "      <td>2180754.0</td>\n",
              "      <td>1.559911e+06</td>\n",
              "    </tr>\n",
              "    <tr>\n",
              "      <th>...</th>\n",
              "      <td>...</td>\n",
              "      <td>...</td>\n",
              "    </tr>\n",
              "    <tr>\n",
              "      <th>235</th>\n",
              "      <td>3320064.0</td>\n",
              "      <td>3.149548e+06</td>\n",
              "    </tr>\n",
              "    <tr>\n",
              "      <th>182</th>\n",
              "      <td>3562837.0</td>\n",
              "      <td>3.902034e+06</td>\n",
              "    </tr>\n",
              "    <tr>\n",
              "      <th>14</th>\n",
              "      <td>1556858.0</td>\n",
              "      <td>1.625125e+06</td>\n",
              "    </tr>\n",
              "    <tr>\n",
              "      <th>217</th>\n",
              "      <td>1971740.0</td>\n",
              "      <td>2.010123e+06</td>\n",
              "    </tr>\n",
              "    <tr>\n",
              "      <th>212</th>\n",
              "      <td>316527.0</td>\n",
              "      <td>7.294622e+05</td>\n",
              "    </tr>\n",
              "  </tbody>\n",
              "</table>\n",
              "<p>61 rows × 2 columns</p>\n",
              "</div>\n",
              "    <div class=\"colab-df-buttons\">\n",
              "\n",
              "  <div class=\"colab-df-container\">\n",
              "    <button class=\"colab-df-convert\" onclick=\"convertToInteractive('df-4e51695c-0509-4b1d-adf3-980b5a51aec9')\"\n",
              "            title=\"Convert this dataframe to an interactive table.\"\n",
              "            style=\"display:none;\">\n",
              "\n",
              "  <svg xmlns=\"http://www.w3.org/2000/svg\" height=\"24px\" viewBox=\"0 -960 960 960\">\n",
              "    <path d=\"M120-120v-720h720v720H120Zm60-500h600v-160H180v160Zm220 220h160v-160H400v160Zm0 220h160v-160H400v160ZM180-400h160v-160H180v160Zm440 0h160v-160H620v160ZM180-180h160v-160H180v160Zm440 0h160v-160H620v160Z\"/>\n",
              "  </svg>\n",
              "    </button>\n",
              "\n",
              "  <style>\n",
              "    .colab-df-container {\n",
              "      display:flex;\n",
              "      gap: 12px;\n",
              "    }\n",
              "\n",
              "    .colab-df-convert {\n",
              "      background-color: #E8F0FE;\n",
              "      border: none;\n",
              "      border-radius: 50%;\n",
              "      cursor: pointer;\n",
              "      display: none;\n",
              "      fill: #1967D2;\n",
              "      height: 32px;\n",
              "      padding: 0 0 0 0;\n",
              "      width: 32px;\n",
              "    }\n",
              "\n",
              "    .colab-df-convert:hover {\n",
              "      background-color: #E2EBFA;\n",
              "      box-shadow: 0px 1px 2px rgba(60, 64, 67, 0.3), 0px 1px 3px 1px rgba(60, 64, 67, 0.15);\n",
              "      fill: #174EA6;\n",
              "    }\n",
              "\n",
              "    .colab-df-buttons div {\n",
              "      margin-bottom: 4px;\n",
              "    }\n",
              "\n",
              "    [theme=dark] .colab-df-convert {\n",
              "      background-color: #3B4455;\n",
              "      fill: #D2E3FC;\n",
              "    }\n",
              "\n",
              "    [theme=dark] .colab-df-convert:hover {\n",
              "      background-color: #434B5C;\n",
              "      box-shadow: 0px 1px 3px 1px rgba(0, 0, 0, 0.15);\n",
              "      filter: drop-shadow(0px 1px 2px rgba(0, 0, 0, 0.3));\n",
              "      fill: #FFFFFF;\n",
              "    }\n",
              "  </style>\n",
              "\n",
              "    <script>\n",
              "      const buttonEl =\n",
              "        document.querySelector('#df-4e51695c-0509-4b1d-adf3-980b5a51aec9 button.colab-df-convert');\n",
              "      buttonEl.style.display =\n",
              "        google.colab.kernel.accessAllowed ? 'block' : 'none';\n",
              "\n",
              "      async function convertToInteractive(key) {\n",
              "        const element = document.querySelector('#df-4e51695c-0509-4b1d-adf3-980b5a51aec9');\n",
              "        const dataTable =\n",
              "          await google.colab.kernel.invokeFunction('convertToInteractive',\n",
              "                                                    [key], {});\n",
              "        if (!dataTable) return;\n",
              "\n",
              "        const docLinkHtml = 'Like what you see? Visit the ' +\n",
              "          '<a target=\"_blank\" href=https://colab.research.google.com/notebooks/data_table.ipynb>data table notebook</a>'\n",
              "          + ' to learn more about interactive tables.';\n",
              "        element.innerHTML = '';\n",
              "        dataTable['output_type'] = 'display_data';\n",
              "        await google.colab.output.renderOutput(dataTable, element);\n",
              "        const docLink = document.createElement('div');\n",
              "        docLink.innerHTML = docLinkHtml;\n",
              "        element.appendChild(docLink);\n",
              "      }\n",
              "    </script>\n",
              "  </div>\n",
              "\n",
              "\n",
              "<div id=\"df-3569ad35-c857-4a89-bcdd-08b3df3ba04b\">\n",
              "  <button class=\"colab-df-quickchart\" onclick=\"quickchart('df-3569ad35-c857-4a89-bcdd-08b3df3ba04b')\"\n",
              "            title=\"Suggest charts\"\n",
              "            style=\"display:none;\">\n",
              "\n",
              "<svg xmlns=\"http://www.w3.org/2000/svg\" height=\"24px\"viewBox=\"0 0 24 24\"\n",
              "     width=\"24px\">\n",
              "    <g>\n",
              "        <path d=\"M19 3H5c-1.1 0-2 .9-2 2v14c0 1.1.9 2 2 2h14c1.1 0 2-.9 2-2V5c0-1.1-.9-2-2-2zM9 17H7v-7h2v7zm4 0h-2V7h2v10zm4 0h-2v-4h2v4z\"/>\n",
              "    </g>\n",
              "</svg>\n",
              "  </button>\n",
              "\n",
              "<style>\n",
              "  .colab-df-quickchart {\n",
              "      --bg-color: #E8F0FE;\n",
              "      --fill-color: #1967D2;\n",
              "      --hover-bg-color: #E2EBFA;\n",
              "      --hover-fill-color: #174EA6;\n",
              "      --disabled-fill-color: #AAA;\n",
              "      --disabled-bg-color: #DDD;\n",
              "  }\n",
              "\n",
              "  [theme=dark] .colab-df-quickchart {\n",
              "      --bg-color: #3B4455;\n",
              "      --fill-color: #D2E3FC;\n",
              "      --hover-bg-color: #434B5C;\n",
              "      --hover-fill-color: #FFFFFF;\n",
              "      --disabled-bg-color: #3B4455;\n",
              "      --disabled-fill-color: #666;\n",
              "  }\n",
              "\n",
              "  .colab-df-quickchart {\n",
              "    background-color: var(--bg-color);\n",
              "    border: none;\n",
              "    border-radius: 50%;\n",
              "    cursor: pointer;\n",
              "    display: none;\n",
              "    fill: var(--fill-color);\n",
              "    height: 32px;\n",
              "    padding: 0;\n",
              "    width: 32px;\n",
              "  }\n",
              "\n",
              "  .colab-df-quickchart:hover {\n",
              "    background-color: var(--hover-bg-color);\n",
              "    box-shadow: 0 1px 2px rgba(60, 64, 67, 0.3), 0 1px 3px 1px rgba(60, 64, 67, 0.15);\n",
              "    fill: var(--button-hover-fill-color);\n",
              "  }\n",
              "\n",
              "  .colab-df-quickchart-complete:disabled,\n",
              "  .colab-df-quickchart-complete:disabled:hover {\n",
              "    background-color: var(--disabled-bg-color);\n",
              "    fill: var(--disabled-fill-color);\n",
              "    box-shadow: none;\n",
              "  }\n",
              "\n",
              "  .colab-df-spinner {\n",
              "    border: 2px solid var(--fill-color);\n",
              "    border-color: transparent;\n",
              "    border-bottom-color: var(--fill-color);\n",
              "    animation:\n",
              "      spin 1s steps(1) infinite;\n",
              "  }\n",
              "\n",
              "  @keyframes spin {\n",
              "    0% {\n",
              "      border-color: transparent;\n",
              "      border-bottom-color: var(--fill-color);\n",
              "      border-left-color: var(--fill-color);\n",
              "    }\n",
              "    20% {\n",
              "      border-color: transparent;\n",
              "      border-left-color: var(--fill-color);\n",
              "      border-top-color: var(--fill-color);\n",
              "    }\n",
              "    30% {\n",
              "      border-color: transparent;\n",
              "      border-left-color: var(--fill-color);\n",
              "      border-top-color: var(--fill-color);\n",
              "      border-right-color: var(--fill-color);\n",
              "    }\n",
              "    40% {\n",
              "      border-color: transparent;\n",
              "      border-right-color: var(--fill-color);\n",
              "      border-top-color: var(--fill-color);\n",
              "    }\n",
              "    60% {\n",
              "      border-color: transparent;\n",
              "      border-right-color: var(--fill-color);\n",
              "    }\n",
              "    80% {\n",
              "      border-color: transparent;\n",
              "      border-right-color: var(--fill-color);\n",
              "      border-bottom-color: var(--fill-color);\n",
              "    }\n",
              "    90% {\n",
              "      border-color: transparent;\n",
              "      border-bottom-color: var(--fill-color);\n",
              "    }\n",
              "  }\n",
              "</style>\n",
              "\n",
              "  <script>\n",
              "    async function quickchart(key) {\n",
              "      const quickchartButtonEl =\n",
              "        document.querySelector('#' + key + ' button');\n",
              "      quickchartButtonEl.disabled = true;  // To prevent multiple clicks.\n",
              "      quickchartButtonEl.classList.add('colab-df-spinner');\n",
              "      try {\n",
              "        const charts = await google.colab.kernel.invokeFunction(\n",
              "            'suggestCharts', [key], {});\n",
              "      } catch (error) {\n",
              "        console.error('Error during call to suggestCharts:', error);\n",
              "      }\n",
              "      quickchartButtonEl.classList.remove('colab-df-spinner');\n",
              "      quickchartButtonEl.classList.add('colab-df-quickchart-complete');\n",
              "    }\n",
              "    (() => {\n",
              "      let quickchartButtonEl =\n",
              "        document.querySelector('#df-3569ad35-c857-4a89-bcdd-08b3df3ba04b button');\n",
              "      quickchartButtonEl.style.display =\n",
              "        google.colab.kernel.accessAllowed ? 'block' : 'none';\n",
              "    })();\n",
              "  </script>\n",
              "</div>\n",
              "\n",
              "  <div id=\"id_23ec1ae1-7170-446f-a865-37e7a419527c\">\n",
              "    <style>\n",
              "      .colab-df-generate {\n",
              "        background-color: #E8F0FE;\n",
              "        border: none;\n",
              "        border-radius: 50%;\n",
              "        cursor: pointer;\n",
              "        display: none;\n",
              "        fill: #1967D2;\n",
              "        height: 32px;\n",
              "        padding: 0 0 0 0;\n",
              "        width: 32px;\n",
              "      }\n",
              "\n",
              "      .colab-df-generate:hover {\n",
              "        background-color: #E2EBFA;\n",
              "        box-shadow: 0px 1px 2px rgba(60, 64, 67, 0.3), 0px 1px 3px 1px rgba(60, 64, 67, 0.15);\n",
              "        fill: #174EA6;\n",
              "      }\n",
              "\n",
              "      [theme=dark] .colab-df-generate {\n",
              "        background-color: #3B4455;\n",
              "        fill: #D2E3FC;\n",
              "      }\n",
              "\n",
              "      [theme=dark] .colab-df-generate:hover {\n",
              "        background-color: #434B5C;\n",
              "        box-shadow: 0px 1px 3px 1px rgba(0, 0, 0, 0.15);\n",
              "        filter: drop-shadow(0px 1px 2px rgba(0, 0, 0, 0.3));\n",
              "        fill: #FFFFFF;\n",
              "      }\n",
              "    </style>\n",
              "    <button class=\"colab-df-generate\" onclick=\"generateWithVariable('df')\"\n",
              "            title=\"Generate code using this dataframe.\"\n",
              "            style=\"display:none;\">\n",
              "\n",
              "  <svg xmlns=\"http://www.w3.org/2000/svg\" height=\"24px\"viewBox=\"0 0 24 24\"\n",
              "       width=\"24px\">\n",
              "    <path d=\"M7,19H8.4L18.45,9,17,7.55,7,17.6ZM5,21V16.75L18.45,3.32a2,2,0,0,1,2.83,0l1.4,1.43a1.91,1.91,0,0,1,.58,1.4,1.91,1.91,0,0,1-.58,1.4L9.25,21ZM18.45,9,17,7.55Zm-12,3A5.31,5.31,0,0,0,4.9,8.1,5.31,5.31,0,0,0,1,6.5,5.31,5.31,0,0,0,4.9,4.9,5.31,5.31,0,0,0,6.5,1,5.31,5.31,0,0,0,8.1,4.9,5.31,5.31,0,0,0,12,6.5,5.46,5.46,0,0,0,6.5,12Z\"/>\n",
              "  </svg>\n",
              "    </button>\n",
              "    <script>\n",
              "      (() => {\n",
              "      const buttonEl =\n",
              "        document.querySelector('#id_23ec1ae1-7170-446f-a865-37e7a419527c button.colab-df-generate');\n",
              "      buttonEl.style.display =\n",
              "        google.colab.kernel.accessAllowed ? 'block' : 'none';\n",
              "\n",
              "      buttonEl.onclick = () => {\n",
              "        google.colab.notebook.generateWithVariable('df');\n",
              "      }\n",
              "      })();\n",
              "    </script>\n",
              "  </div>\n",
              "\n",
              "    </div>\n",
              "  </div>\n"
            ],
            "application/vnd.google.colaboratory.intrinsic+json": {
              "type": "dataframe",
              "variable_name": "df",
              "summary": "{\n  \"name\": \"df\",\n  \"rows\": 61,\n  \"fields\": [\n    {\n      \"column\": \"aktual\",\n      \"properties\": {\n        \"dtype\": \"number\",\n        \"std\": 1259174.57362063,\n        \"min\": 230873.97,\n        \"max\": 4881089.0,\n        \"num_unique_values\": 61,\n        \"samples\": [\n          1759059.0,\n          484900.0,\n          1861567.1\n        ],\n        \"semantic_type\": \"\",\n        \"description\": \"\"\n      }\n    },\n    {\n      \"column\": \"Prediksi\",\n      \"properties\": {\n        \"dtype\": \"number\",\n        \"std\": 1127843.928349973,\n        \"min\": 193818.2698410228,\n        \"max\": 3902033.699175827,\n        \"num_unique_values\": 61,\n        \"samples\": [\n          1558284.7466556057,\n          556746.547804527,\n          1801979.174888879\n        ],\n        \"semantic_type\": \"\",\n        \"description\": \"\"\n      }\n    }\n  ]\n}"
            }
          },
          "metadata": {},
          "execution_count": 48
        }
      ]
    },
    {
      "cell_type": "code",
      "source": [
        "df.to_csv('Aktual_Prediksi_Tanaman_Padi_Sumatera.csv')"
      ],
      "metadata": {
        "id": "wRNuZCITZTml"
      },
      "execution_count": null,
      "outputs": []
    }
  ]
}